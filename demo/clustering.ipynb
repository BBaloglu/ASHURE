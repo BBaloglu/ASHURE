{
 "cells": [
  {
   "cell_type": "markdown",
   "metadata": {},
   "source": [
    "# Clustering sequence data with OPTICS"
   ]
  },
  {
   "cell_type": "code",
   "execution_count": 1,
   "metadata": {},
   "outputs": [
    {
     "data": {
      "text/html": [
       "\n",
       "    <div class=\"bk-root\">\n",
       "        <a href=\"https://bokeh.org\" target=\"_blank\" class=\"bk-logo bk-logo-small bk-logo-notebook\"></a>\n",
       "        <span id=\"1001\">Loading BokehJS ...</span>\n",
       "    </div>"
      ]
     },
     "metadata": {},
     "output_type": "display_data"
    },
    {
     "data": {
      "application/javascript": [
       "\n",
       "(function(root) {\n",
       "  function now() {\n",
       "    return new Date();\n",
       "  }\n",
       "\n",
       "  var force = true;\n",
       "\n",
       "  if (typeof root._bokeh_onload_callbacks === \"undefined\" || force === true) {\n",
       "    root._bokeh_onload_callbacks = [];\n",
       "    root._bokeh_is_loading = undefined;\n",
       "  }\n",
       "\n",
       "  var JS_MIME_TYPE = 'application/javascript';\n",
       "  var HTML_MIME_TYPE = 'text/html';\n",
       "  var EXEC_MIME_TYPE = 'application/vnd.bokehjs_exec.v0+json';\n",
       "  var CLASS_NAME = 'output_bokeh rendered_html';\n",
       "\n",
       "  /**\n",
       "   * Render data to the DOM node\n",
       "   */\n",
       "  function render(props, node) {\n",
       "    var script = document.createElement(\"script\");\n",
       "    node.appendChild(script);\n",
       "  }\n",
       "\n",
       "  /**\n",
       "   * Handle when an output is cleared or removed\n",
       "   */\n",
       "  function handleClearOutput(event, handle) {\n",
       "    var cell = handle.cell;\n",
       "\n",
       "    var id = cell.output_area._bokeh_element_id;\n",
       "    var server_id = cell.output_area._bokeh_server_id;\n",
       "    // Clean up Bokeh references\n",
       "    if (id != null && id in Bokeh.index) {\n",
       "      Bokeh.index[id].model.document.clear();\n",
       "      delete Bokeh.index[id];\n",
       "    }\n",
       "\n",
       "    if (server_id !== undefined) {\n",
       "      // Clean up Bokeh references\n",
       "      var cmd = \"from bokeh.io.state import curstate; print(curstate().uuid_to_server['\" + server_id + \"'].get_sessions()[0].document.roots[0]._id)\";\n",
       "      cell.notebook.kernel.execute(cmd, {\n",
       "        iopub: {\n",
       "          output: function(msg) {\n",
       "            var id = msg.content.text.trim();\n",
       "            if (id in Bokeh.index) {\n",
       "              Bokeh.index[id].model.document.clear();\n",
       "              delete Bokeh.index[id];\n",
       "            }\n",
       "          }\n",
       "        }\n",
       "      });\n",
       "      // Destroy server and session\n",
       "      var cmd = \"import bokeh.io.notebook as ion; ion.destroy_server('\" + server_id + \"')\";\n",
       "      cell.notebook.kernel.execute(cmd);\n",
       "    }\n",
       "  }\n",
       "\n",
       "  /**\n",
       "   * Handle when a new output is added\n",
       "   */\n",
       "  function handleAddOutput(event, handle) {\n",
       "    var output_area = handle.output_area;\n",
       "    var output = handle.output;\n",
       "\n",
       "    // limit handleAddOutput to display_data with EXEC_MIME_TYPE content only\n",
       "    if ((output.output_type != \"display_data\") || (!output.data.hasOwnProperty(EXEC_MIME_TYPE))) {\n",
       "      return\n",
       "    }\n",
       "\n",
       "    var toinsert = output_area.element.find(\".\" + CLASS_NAME.split(' ')[0]);\n",
       "\n",
       "    if (output.metadata[EXEC_MIME_TYPE][\"id\"] !== undefined) {\n",
       "      toinsert[toinsert.length - 1].firstChild.textContent = output.data[JS_MIME_TYPE];\n",
       "      // store reference to embed id on output_area\n",
       "      output_area._bokeh_element_id = output.metadata[EXEC_MIME_TYPE][\"id\"];\n",
       "    }\n",
       "    if (output.metadata[EXEC_MIME_TYPE][\"server_id\"] !== undefined) {\n",
       "      var bk_div = document.createElement(\"div\");\n",
       "      bk_div.innerHTML = output.data[HTML_MIME_TYPE];\n",
       "      var script_attrs = bk_div.children[0].attributes;\n",
       "      for (var i = 0; i < script_attrs.length; i++) {\n",
       "        toinsert[toinsert.length - 1].firstChild.setAttribute(script_attrs[i].name, script_attrs[i].value);\n",
       "        toinsert[toinsert.length - 1].firstChild.textContent = bk_div.children[0].textContent\n",
       "      }\n",
       "      // store reference to server id on output_area\n",
       "      output_area._bokeh_server_id = output.metadata[EXEC_MIME_TYPE][\"server_id\"];\n",
       "    }\n",
       "  }\n",
       "\n",
       "  function register_renderer(events, OutputArea) {\n",
       "\n",
       "    function append_mime(data, metadata, element) {\n",
       "      // create a DOM node to render to\n",
       "      var toinsert = this.create_output_subarea(\n",
       "        metadata,\n",
       "        CLASS_NAME,\n",
       "        EXEC_MIME_TYPE\n",
       "      );\n",
       "      this.keyboard_manager.register_events(toinsert);\n",
       "      // Render to node\n",
       "      var props = {data: data, metadata: metadata[EXEC_MIME_TYPE]};\n",
       "      render(props, toinsert[toinsert.length - 1]);\n",
       "      element.append(toinsert);\n",
       "      return toinsert\n",
       "    }\n",
       "\n",
       "    /* Handle when an output is cleared or removed */\n",
       "    events.on('clear_output.CodeCell', handleClearOutput);\n",
       "    events.on('delete.Cell', handleClearOutput);\n",
       "\n",
       "    /* Handle when a new output is added */\n",
       "    events.on('output_added.OutputArea', handleAddOutput);\n",
       "\n",
       "    /**\n",
       "     * Register the mime type and append_mime function with output_area\n",
       "     */\n",
       "    OutputArea.prototype.register_mime_type(EXEC_MIME_TYPE, append_mime, {\n",
       "      /* Is output safe? */\n",
       "      safe: true,\n",
       "      /* Index of renderer in `output_area.display_order` */\n",
       "      index: 0\n",
       "    });\n",
       "  }\n",
       "\n",
       "  // register the mime type if in Jupyter Notebook environment and previously unregistered\n",
       "  if (root.Jupyter !== undefined) {\n",
       "    var events = require('base/js/events');\n",
       "    var OutputArea = require('notebook/js/outputarea').OutputArea;\n",
       "\n",
       "    if (OutputArea.prototype.mime_types().indexOf(EXEC_MIME_TYPE) == -1) {\n",
       "      register_renderer(events, OutputArea);\n",
       "    }\n",
       "  }\n",
       "\n",
       "  \n",
       "  if (typeof (root._bokeh_timeout) === \"undefined\" || force === true) {\n",
       "    root._bokeh_timeout = Date.now() + 5000;\n",
       "    root._bokeh_failed_load = false;\n",
       "  }\n",
       "\n",
       "  var NB_LOAD_WARNING = {'data': {'text/html':\n",
       "     \"<div style='background-color: #fdd'>\\n\"+\n",
       "     \"<p>\\n\"+\n",
       "     \"BokehJS does not appear to have successfully loaded. If loading BokehJS from CDN, this \\n\"+\n",
       "     \"may be due to a slow or bad network connection. Possible fixes:\\n\"+\n",
       "     \"</p>\\n\"+\n",
       "     \"<ul>\\n\"+\n",
       "     \"<li>re-rerun `output_notebook()` to attempt to load from CDN again, or</li>\\n\"+\n",
       "     \"<li>use INLINE resources instead, as so:</li>\\n\"+\n",
       "     \"</ul>\\n\"+\n",
       "     \"<code>\\n\"+\n",
       "     \"from bokeh.resources import INLINE\\n\"+\n",
       "     \"output_notebook(resources=INLINE)\\n\"+\n",
       "     \"</code>\\n\"+\n",
       "     \"</div>\"}};\n",
       "\n",
       "  function display_loaded() {\n",
       "    var el = document.getElementById(\"1001\");\n",
       "    if (el != null) {\n",
       "      el.textContent = \"BokehJS is loading...\";\n",
       "    }\n",
       "    if (root.Bokeh !== undefined) {\n",
       "      if (el != null) {\n",
       "        el.textContent = \"BokehJS \" + root.Bokeh.version + \" successfully loaded.\";\n",
       "      }\n",
       "    } else if (Date.now() < root._bokeh_timeout) {\n",
       "      setTimeout(display_loaded, 100)\n",
       "    }\n",
       "  }\n",
       "\n",
       "\n",
       "  function run_callbacks() {\n",
       "    try {\n",
       "      root._bokeh_onload_callbacks.forEach(function(callback) {\n",
       "        if (callback != null)\n",
       "          callback();\n",
       "      });\n",
       "    } finally {\n",
       "      delete root._bokeh_onload_callbacks\n",
       "    }\n",
       "    console.debug(\"Bokeh: all callbacks have finished\");\n",
       "  }\n",
       "\n",
       "  function load_libs(css_urls, js_urls, callback) {\n",
       "    if (css_urls == null) css_urls = [];\n",
       "    if (js_urls == null) js_urls = [];\n",
       "\n",
       "    root._bokeh_onload_callbacks.push(callback);\n",
       "    if (root._bokeh_is_loading > 0) {\n",
       "      console.debug(\"Bokeh: BokehJS is being loaded, scheduling callback at\", now());\n",
       "      return null;\n",
       "    }\n",
       "    if (js_urls == null || js_urls.length === 0) {\n",
       "      run_callbacks();\n",
       "      return null;\n",
       "    }\n",
       "    console.debug(\"Bokeh: BokehJS not loaded, scheduling load and callback at\", now());\n",
       "    root._bokeh_is_loading = css_urls.length + js_urls.length;\n",
       "\n",
       "    function on_load() {\n",
       "      root._bokeh_is_loading--;\n",
       "      if (root._bokeh_is_loading === 0) {\n",
       "        console.debug(\"Bokeh: all BokehJS libraries/stylesheets loaded\");\n",
       "        run_callbacks()\n",
       "      }\n",
       "    }\n",
       "\n",
       "    function on_error() {\n",
       "      console.error(\"failed to load \" + url);\n",
       "    }\n",
       "\n",
       "    for (var i = 0; i < css_urls.length; i++) {\n",
       "      var url = css_urls[i];\n",
       "      const element = document.createElement(\"link\");\n",
       "      element.onload = on_load;\n",
       "      element.onerror = on_error;\n",
       "      element.rel = \"stylesheet\";\n",
       "      element.type = \"text/css\";\n",
       "      element.href = url;\n",
       "      console.debug(\"Bokeh: injecting link tag for BokehJS stylesheet: \", url);\n",
       "      document.body.appendChild(element);\n",
       "    }\n",
       "\n",
       "    const hashes = {\"https://cdn.bokeh.org/bokeh/release/bokeh-2.2.1.min.js\": \"qkRvDQVAIfzsJo40iRBbxt6sttt0hv4lh74DG7OK4MCHv4C5oohXYoHUM5W11uqS\", \"https://cdn.bokeh.org/bokeh/release/bokeh-widgets-2.2.1.min.js\": \"Sb7Mr06a9TNlet/GEBeKaf5xH3eb6AlCzwjtU82wNPyDrnfoiVl26qnvlKjmcAd+\", \"https://cdn.bokeh.org/bokeh/release/bokeh-tables-2.2.1.min.js\": \"HaJ15vgfmcfRtB4c4YBOI4f1MUujukqInOWVqZJZZGK7Q+ivud0OKGSTn/Vm2iso\"};\n",
       "\n",
       "    for (var i = 0; i < js_urls.length; i++) {\n",
       "      var url = js_urls[i];\n",
       "      var element = document.createElement('script');\n",
       "      element.onload = on_load;\n",
       "      element.onerror = on_error;\n",
       "      element.async = false;\n",
       "      element.src = url;\n",
       "      if (url in hashes) {\n",
       "        element.crossOrigin = \"anonymous\";\n",
       "        element.integrity = \"sha384-\" + hashes[url];\n",
       "      }\n",
       "      console.debug(\"Bokeh: injecting script tag for BokehJS library: \", url);\n",
       "      document.head.appendChild(element);\n",
       "    }\n",
       "  };\n",
       "\n",
       "  function inject_raw_css(css) {\n",
       "    const element = document.createElement(\"style\");\n",
       "    element.appendChild(document.createTextNode(css));\n",
       "    document.body.appendChild(element);\n",
       "  }\n",
       "\n",
       "  \n",
       "  var js_urls = [\"https://cdn.bokeh.org/bokeh/release/bokeh-2.2.1.min.js\", \"https://cdn.bokeh.org/bokeh/release/bokeh-widgets-2.2.1.min.js\", \"https://cdn.bokeh.org/bokeh/release/bokeh-tables-2.2.1.min.js\"];\n",
       "  var css_urls = [];\n",
       "  \n",
       "\n",
       "  var inline_js = [\n",
       "    function(Bokeh) {\n",
       "      Bokeh.set_log_level(\"info\");\n",
       "    },\n",
       "    function(Bokeh) {\n",
       "    \n",
       "    \n",
       "    }\n",
       "  ];\n",
       "\n",
       "  function run_inline_js() {\n",
       "    \n",
       "    if (root.Bokeh !== undefined || force === true) {\n",
       "      \n",
       "    for (var i = 0; i < inline_js.length; i++) {\n",
       "      inline_js[i].call(root, root.Bokeh);\n",
       "    }\n",
       "    if (force === true) {\n",
       "        display_loaded();\n",
       "      }} else if (Date.now() < root._bokeh_timeout) {\n",
       "      setTimeout(run_inline_js, 100);\n",
       "    } else if (!root._bokeh_failed_load) {\n",
       "      console.log(\"Bokeh: BokehJS failed to load within specified timeout.\");\n",
       "      root._bokeh_failed_load = true;\n",
       "    } else if (force !== true) {\n",
       "      var cell = $(document.getElementById(\"1001\")).parents('.cell').data().cell;\n",
       "      cell.output_area.append_execute_result(NB_LOAD_WARNING)\n",
       "    }\n",
       "\n",
       "  }\n",
       "\n",
       "  if (root._bokeh_is_loading === 0) {\n",
       "    console.debug(\"Bokeh: BokehJS loaded, going straight to plotting\");\n",
       "    run_inline_js();\n",
       "  } else {\n",
       "    load_libs(css_urls, js_urls, function() {\n",
       "      console.debug(\"Bokeh: BokehJS plotting callback run at\", now());\n",
       "      run_inline_js();\n",
       "    });\n",
       "  }\n",
       "}(window));"
      ],
      "application/vnd.bokehjs_load.v0+json": "\n(function(root) {\n  function now() {\n    return new Date();\n  }\n\n  var force = true;\n\n  if (typeof root._bokeh_onload_callbacks === \"undefined\" || force === true) {\n    root._bokeh_onload_callbacks = [];\n    root._bokeh_is_loading = undefined;\n  }\n\n  \n\n  \n  if (typeof (root._bokeh_timeout) === \"undefined\" || force === true) {\n    root._bokeh_timeout = Date.now() + 5000;\n    root._bokeh_failed_load = false;\n  }\n\n  var NB_LOAD_WARNING = {'data': {'text/html':\n     \"<div style='background-color: #fdd'>\\n\"+\n     \"<p>\\n\"+\n     \"BokehJS does not appear to have successfully loaded. If loading BokehJS from CDN, this \\n\"+\n     \"may be due to a slow or bad network connection. Possible fixes:\\n\"+\n     \"</p>\\n\"+\n     \"<ul>\\n\"+\n     \"<li>re-rerun `output_notebook()` to attempt to load from CDN again, or</li>\\n\"+\n     \"<li>use INLINE resources instead, as so:</li>\\n\"+\n     \"</ul>\\n\"+\n     \"<code>\\n\"+\n     \"from bokeh.resources import INLINE\\n\"+\n     \"output_notebook(resources=INLINE)\\n\"+\n     \"</code>\\n\"+\n     \"</div>\"}};\n\n  function display_loaded() {\n    var el = document.getElementById(\"1001\");\n    if (el != null) {\n      el.textContent = \"BokehJS is loading...\";\n    }\n    if (root.Bokeh !== undefined) {\n      if (el != null) {\n        el.textContent = \"BokehJS \" + root.Bokeh.version + \" successfully loaded.\";\n      }\n    } else if (Date.now() < root._bokeh_timeout) {\n      setTimeout(display_loaded, 100)\n    }\n  }\n\n\n  function run_callbacks() {\n    try {\n      root._bokeh_onload_callbacks.forEach(function(callback) {\n        if (callback != null)\n          callback();\n      });\n    } finally {\n      delete root._bokeh_onload_callbacks\n    }\n    console.debug(\"Bokeh: all callbacks have finished\");\n  }\n\n  function load_libs(css_urls, js_urls, callback) {\n    if (css_urls == null) css_urls = [];\n    if (js_urls == null) js_urls = [];\n\n    root._bokeh_onload_callbacks.push(callback);\n    if (root._bokeh_is_loading > 0) {\n      console.debug(\"Bokeh: BokehJS is being loaded, scheduling callback at\", now());\n      return null;\n    }\n    if (js_urls == null || js_urls.length === 0) {\n      run_callbacks();\n      return null;\n    }\n    console.debug(\"Bokeh: BokehJS not loaded, scheduling load and callback at\", now());\n    root._bokeh_is_loading = css_urls.length + js_urls.length;\n\n    function on_load() {\n      root._bokeh_is_loading--;\n      if (root._bokeh_is_loading === 0) {\n        console.debug(\"Bokeh: all BokehJS libraries/stylesheets loaded\");\n        run_callbacks()\n      }\n    }\n\n    function on_error() {\n      console.error(\"failed to load \" + url);\n    }\n\n    for (var i = 0; i < css_urls.length; i++) {\n      var url = css_urls[i];\n      const element = document.createElement(\"link\");\n      element.onload = on_load;\n      element.onerror = on_error;\n      element.rel = \"stylesheet\";\n      element.type = \"text/css\";\n      element.href = url;\n      console.debug(\"Bokeh: injecting link tag for BokehJS stylesheet: \", url);\n      document.body.appendChild(element);\n    }\n\n    const hashes = {\"https://cdn.bokeh.org/bokeh/release/bokeh-2.2.1.min.js\": \"qkRvDQVAIfzsJo40iRBbxt6sttt0hv4lh74DG7OK4MCHv4C5oohXYoHUM5W11uqS\", \"https://cdn.bokeh.org/bokeh/release/bokeh-widgets-2.2.1.min.js\": \"Sb7Mr06a9TNlet/GEBeKaf5xH3eb6AlCzwjtU82wNPyDrnfoiVl26qnvlKjmcAd+\", \"https://cdn.bokeh.org/bokeh/release/bokeh-tables-2.2.1.min.js\": \"HaJ15vgfmcfRtB4c4YBOI4f1MUujukqInOWVqZJZZGK7Q+ivud0OKGSTn/Vm2iso\"};\n\n    for (var i = 0; i < js_urls.length; i++) {\n      var url = js_urls[i];\n      var element = document.createElement('script');\n      element.onload = on_load;\n      element.onerror = on_error;\n      element.async = false;\n      element.src = url;\n      if (url in hashes) {\n        element.crossOrigin = \"anonymous\";\n        element.integrity = \"sha384-\" + hashes[url];\n      }\n      console.debug(\"Bokeh: injecting script tag for BokehJS library: \", url);\n      document.head.appendChild(element);\n    }\n  };\n\n  function inject_raw_css(css) {\n    const element = document.createElement(\"style\");\n    element.appendChild(document.createTextNode(css));\n    document.body.appendChild(element);\n  }\n\n  \n  var js_urls = [\"https://cdn.bokeh.org/bokeh/release/bokeh-2.2.1.min.js\", \"https://cdn.bokeh.org/bokeh/release/bokeh-widgets-2.2.1.min.js\", \"https://cdn.bokeh.org/bokeh/release/bokeh-tables-2.2.1.min.js\"];\n  var css_urls = [];\n  \n\n  var inline_js = [\n    function(Bokeh) {\n      Bokeh.set_log_level(\"info\");\n    },\n    function(Bokeh) {\n    \n    \n    }\n  ];\n\n  function run_inline_js() {\n    \n    if (root.Bokeh !== undefined || force === true) {\n      \n    for (var i = 0; i < inline_js.length; i++) {\n      inline_js[i].call(root, root.Bokeh);\n    }\n    if (force === true) {\n        display_loaded();\n      }} else if (Date.now() < root._bokeh_timeout) {\n      setTimeout(run_inline_js, 100);\n    } else if (!root._bokeh_failed_load) {\n      console.log(\"Bokeh: BokehJS failed to load within specified timeout.\");\n      root._bokeh_failed_load = true;\n    } else if (force !== true) {\n      var cell = $(document.getElementById(\"1001\")).parents('.cell').data().cell;\n      cell.output_area.append_execute_result(NB_LOAD_WARNING)\n    }\n\n  }\n\n  if (root._bokeh_is_loading === 0) {\n    console.debug(\"Bokeh: BokehJS loaded, going straight to plotting\");\n    run_inline_js();\n  } else {\n    load_libs(css_urls, js_urls, function() {\n      console.debug(\"Bokeh: BokehJS plotting callback run at\", now());\n      run_inline_js();\n    });\n  }\n}(window));"
     },
     "metadata": {},
     "output_type": "display_data"
    }
   ],
   "source": [
    "#loading libraries\n",
    "import numpy as np\n",
    "import scipy as sp\n",
    "import pandas as pd\n",
    "\n",
    "# plotting libraries\n",
    "import matplotlib.pyplot as plt\n",
    "import seaborn as sns\n",
    "import bokeh\n",
    "import bokeh.plotting\n",
    "import bokeh.layouts\n",
    "\n",
    "# For interfacing with the file system\n",
    "import glob\n",
    "import subprocess\n",
    "import os\n",
    "import time\n",
    "\n",
    "import importlib\n",
    "import bilge_pype as bpy\n",
    "\n",
    "# pipes bokeh output to the notebook\n",
    "bokeh.io.output_notebook()\n",
    "# enables some logging output\n",
    "bpy.init_log(level='INFO')"
   ]
  },
  {
   "cell_type": "markdown",
   "metadata": {},
   "source": [
    "## Introduction\n",
    "This notebook is intended to give an overview of the clustering module in `ashure.py`. The following will examine both the naive and augmented implementation of OPTICS on clustering nanopore sequence data and show how applying OPTICS to sequence data can help us infer the true haplotype sequences present in our sequencing experiment."
   ]
  },
  {
   "cell_type": "markdown",
   "metadata": {},
   "source": [
    "## Loading the dataset\n",
    "The pseudo reference database generated by `ashure.py` will be used as the input dataset for the clustering module. To generate the pseudo reference database, run `ashure.py` on this subset of basecalled reads we have provided."
   ]
  },
  {
   "cell_type": "code",
   "execution_count": 2,
   "metadata": {
    "scrolled": true
   },
   "outputs": [
    {
     "data": {
      "text/plain": [
       "CompletedProcess(args='python3 ashure.py prfg -fq fastq/*.fq -fs 500-1200 -p primers.csv -o pseudo_ref.csv.gz --low_mem -r', returncode=0)"
      ]
     },
     "execution_count": 2,
     "metadata": {},
     "output_type": "execute_result"
    }
   ],
   "source": [
    "cmd = 'python3 ashure.py prfg -fq fastq/*.fq -fs 500-1200 -p primers.csv -o pseudo_ref.csv.gz --low_mem -r'\n",
    "subprocess.run(cmd, shell=True) # submit the command to shell"
   ]
  },
  {
   "cell_type": "markdown",
   "metadata": {},
   "source": [
    "Next, run the `clst` module of `ashure.py` on the pseudo reference database generated. This will compute the cluster centers and write the output to `pseudo_clst.csv.gz`. We will visualize these cluster centers relative to the whole dataset in the next section."
   ]
  },
  {
   "cell_type": "code",
   "execution_count": 3,
   "metadata": {},
   "outputs": [
    {
     "data": {
      "text/plain": [
       "CompletedProcess(args='python3 ashure.py clst -i pseudo_ref.csv.gz -o pseudo_clst.csv.gz -iter 10 -r', returncode=0)"
      ]
     },
     "execution_count": 3,
     "metadata": {},
     "output_type": "execute_result"
    }
   ],
   "source": [
    "cmd = 'python3 ashure.py clst -i pseudo_ref.csv.gz -o pseudo_clst.csv.gz -iter 10 -r'  # runs clustering for 10 iterations\n",
    "subprocess.run(cmd, shell=True)"
   ]
  },
  {
   "cell_type": "markdown",
   "metadata": {},
   "source": [
    "## Visualizing sequence data with t-SNE\n",
    "t-SNE can help visualize the relationship between sequences by performing dimensionality reduction on the pairwise distances between sequences. In the code snippet below, pseudo reference sequences, cluster center sequences of the pseudo reference, and the mock50 reference sequences are loaded and concatenated. Pairwise alignments are computed via `run_minimap2()` and saved to a csv file called `pseudo_pw.csv.gz`"
   ]
  },
  {
   "cell_type": "code",
   "execution_count": 4,
   "metadata": {},
   "outputs": [],
   "source": [
    "def compute_pw(df):\n",
    "    # note that -D in config remove entries for diagonal alignments.\n",
    "    config = '-k15 -w10 -p 0.9 -D --dual=no'\n",
    "    df_pw = bpy.run_minimap2(df, df, config=config, cleanup=True)\n",
    "    # get the best alignment\n",
    "    return bpy.get_best(df_pw, ['query_id','database_id'], metric='AS', stat='idxmax')"
   ]
  },
  {
   "cell_type": "code",
   "execution_count": 5,
   "metadata": {},
   "outputs": [
    {
     "name": "stdout",
     "output_type": "stream",
     "text": [
      "pid[90550] 2020-10-09 22:59:43.868 INFO: Making directory ./minimap2/\n"
     ]
    }
   ],
   "source": [
    "# load data and concatenate dataframes\n",
    "df_prf = pd.read_csv('pseudo_ref.csv.gz')[['id','sequence']]\n",
    "df_cl = pd.read_csv('pseudo_clst.csv.gz')[['id','sequence']]\n",
    "df_ref = bpy.read_fasta('ref_db.fa')[['id','sequence']]\n",
    "# use only mock50\n",
    "df_ref = df_ref[[('HAP' in i) for i in df_ref['id']]]\n",
    "df = pd.concat([df_prf, df_cl, df_ref])\n",
    "df_pw = compute_pw(df[['id','sequence']])\n",
    "df_pw.to_csv('pseudo_pw.csv.gz', index=False, compression='infer') # save the data"
   ]
  },
  {
   "cell_type": "markdown",
   "metadata": {},
   "source": [
    "The code snippet below loads the alignment information generated by `minimap2`, transforms it into a distance matrix, and runs t-SNE on the pairwise distance data. t-SNE output is written to a `pseudo_tsne.csv.gz` for plotting."
   ]
  },
  {
   "cell_type": "code",
   "execution_count": 6,
   "metadata": {},
   "outputs": [],
   "source": [
    "def get_dist_matrix(df):\n",
    "    # extract the pairwise distance matrix and use match_score as the metric\n",
    "    m = bpy.get_feature_vector(df[['query_id','database_id','similarity']], symmetric=True)\n",
    "    # make this matrix symmetric\n",
    "    m = bpy.get_symmetric_matrix(m, sym_larger=False)\n",
    "    # invert similarity to distance\n",
    "    for i in range(0,len(m)):\n",
    "        m.iloc[:,i] = 1-m.iloc[:,i]\n",
    "        m.iat[i,i] = 0 # set diagonal values to zero\n",
    "    return m\n",
    "\n",
    "def get_cluster(dist, metric='precomputed', alt=False, min_samples=None):\n",
    "    # runs tsne on distance matrix\n",
    "    tsne = bpy.run_TSNE(dist, metric=metric)\n",
    "    # run optics\n",
    "    optics = bpy.cluster_OPTICS(dist, metric=metric, alt_label=alt, min_samples=min_samples)\n",
    "    optics = optics.rename(columns={'cluster_id':'optics_id','ordering':'optics_order'})\n",
    "    # merge the data\n",
    "    tsne = tsne.merge(optics, on='id', how='left')\n",
    "    return tsne"
   ]
  },
  {
   "cell_type": "code",
   "execution_count": 7,
   "metadata": {},
   "outputs": [
    {
     "name": "stdout",
     "output_type": "stream",
     "text": [
      "pid[90550] 2020-10-09 22:59:55.891 INFO: running sklearn tsne with n_comp = 2\n",
      "pid[90550] 2020-10-09 23:01:20.680 INFO: Running OPTICS\n",
      "pid[90550] 2020-10-09 23:01:21.033 INFO: max_eps = 0.5\n",
      "pid[90550] 2020-10-09 23:01:21.034 INFO: clust_OPTICS: iter=0 using min_samples=11\n",
      "pid[90550] 2020-10-09 23:01:28.544 INFO: clust_OPTICS: clusters=25 outliers=2158 delta=5.5\n",
      "pid[90550] 2020-10-09 23:01:28.546 INFO: n_clusters=25 n_unclustered=2158 N=5639\n"
     ]
    }
   ],
   "source": [
    "# load pairwise data\n",
    "df = pd.read_csv('pseudo_pw.csv.gz')\n",
    "# get the distance matrix\n",
    "m = get_dist_matrix(df)\n",
    "# perform tsne, hdscan, and optics on the data\n",
    "tsne = get_cluster(m, metric='precomputed', min_samples=11)\n",
    "tsne.to_csv('pseudo_tsne.csv.gz', compression='infer', index=False)"
   ]
  },
  {
   "cell_type": "markdown",
   "metadata": {},
   "source": [
    "The following code snippet loads the t-SNE data, matches the sequences to their haplotype via `minimap2`, and adds color maps to each cluster label."
   ]
  },
  {
   "cell_type": "code",
   "execution_count": 8,
   "metadata": {},
   "outputs": [],
   "source": [
    "def match_haplotypes(pfile='',rfile='',cfile='',tfile=''):\n",
    "    # load sequence data\n",
    "    prf = pd.read_csv(pfile)\n",
    "    prf['source'] = 'samples'\n",
    "    ref = bpy.read_fasta(rfile)\n",
    "    # use only mock50\n",
    "    ref = ref[[('HAP' in i) for i in ref['id']]]\n",
    "    ref['source'] = 'reference'\n",
    "    clst = pd.read_csv(cfile)\n",
    "    clst['source'] = 'clst'\n",
    "    cols = ['id','sequence','source']\n",
    "    df = pd.concat([prf[cols],ref[cols],clst[cols]])\n",
    "    # align sequences to haplotypes and cluster centers\n",
    "    A = bpy.run_minimap2(df, ref, config='-k8 -w1', cleanup=True).rename(columns={'query_id':'id'})\n",
    "    A = bpy.get_best(A,['id'],metric='AS',stat='idxmax')\n",
    "    B = bpy.run_minimap2(df, clst, config='-k8 -w1', cleanup=True).rename(columns={'query_id':'id'})\n",
    "    B = bpy.get_best(B,['id'],metric='AS',stat='idxmax')\n",
    "    A = A.rename(columns={'database_id':'ref_id','similarity':'ref_match'})\n",
    "    B = B.rename(columns={'database_id':'clst_id','similarity':'clst_match'})\n",
    "    # merge data\n",
    "    df = df.merge(A[['id','ref_id','ref_match']], on='id', how='left')\n",
    "    df = df.merge(B[['id','clst_id','clst_match']], on='id', how='left')\n",
    "    # merge into tsne\n",
    "    tsne = pd.read_csv(tfile)\n",
    "    tsne = tsne.merge(df, on='id', how='left')\n",
    "    # add colors to ref_id\n",
    "    col = 'ref_id'\n",
    "    rid = np.unique(tsne[col].dropna())\n",
    "    cmap = bokeh.palettes.Category20b_20\n",
    "    colors = [cmap[i%len(cmap)] for i in range(0,len(rid))]\n",
    "    colors = pd.DataFrame(np.transpose([rid,colors]), columns=[col,'ref_id_color'])\n",
    "    tsne = tsne.merge(colors,on='ref_id',how='left')\n",
    "    # add colors to clst_id\n",
    "    col = 'clst_id'\n",
    "    rid = np.unique(tsne[col].dropna())\n",
    "    colors = [cmap[i%len(cmap)] for i in range(0,len(rid))]\n",
    "    colors = pd.DataFrame(np.transpose([rid,colors]), columns=[col,'clst_id_color'])\n",
    "    tsne = tsne.merge(colors,on='clst_id',how='left')\n",
    "    return tsne"
   ]
  },
  {
   "cell_type": "code",
   "execution_count": 9,
   "metadata": {},
   "outputs": [
    {
     "name": "stdout",
     "output_type": "stream",
     "text": [
      "pid[90550] 2020-10-09 23:01:28.815 INFO: Making directory ./minimap2/\n",
      "pid[90550] 2020-10-09 23:01:33.327 INFO: Making directory ./minimap2/\n"
     ]
    }
   ],
   "source": [
    "pfile = 'pseudo_ref.csv.gz'\n",
    "rfile = 'ref_db.fa'\n",
    "cfile = 'pseudo_clst.csv.gz'\n",
    "tfile = 'pseudo_tsne.csv.gz'\n",
    "tsne = match_haplotypes(pfile, rfile, cfile, tfile)"
   ]
  },
  {
   "cell_type": "markdown",
   "metadata": {},
   "source": [
    "The following code snippet plots the t-SNE data with bokeh and adds interactive tooltips for each datapoint."
   ]
  },
  {
   "cell_type": "code",
   "execution_count": 10,
   "metadata": {},
   "outputs": [],
   "source": [
    "def make_bokeh_scatter(tsne, x_axis='f_0', y_axis='f_1', s1=2, s2=5, s3=7, color='clst_id_color', R=[0,1]):\n",
    "    TOOLTIPS = [('id','@id'),\n",
    "            ('ref_id', '@ref_id'),\n",
    "            ('ref_match','@ref_match'),\n",
    "            ('clst_id','@clst_id'),\n",
    "            ('clst_match','@clst_match'),\n",
    "            ('optics_id','@optics_id'),\n",
    "            ('reachability','@reachability')]\n",
    "    p = bokeh.plotting.figure(output_backend='webgl', tooltips=TOOLTIPS)\n",
    "    \n",
    "    d = tsne[tsne['source']=='samples']\n",
    "    if color in ['ref_match','clst_match','ref_error','cl_error','reachability']:\n",
    "        # establish colormap for numerical data\n",
    "        mapper = bokeh.transform.linear_cmap(field_name=color, palette=bokeh.palettes.Turbo256, low=R[0], high=R[1])\n",
    "        color_bar = bokeh.models.ColorBar(color_mapper=mapper['transform'], width=8,  location=(0,0))\n",
    "        p.circle(x_axis, y_axis, color=mapper, size=s1, source=d)\n",
    "        p.add_layout(color_bar, 'right')\n",
    "    else:\n",
    "        # colorize by category\n",
    "        p.circle(x_axis, y_axis, color=color, size=s1, source=d)\n",
    "    \n",
    "    # plot cluster centers\n",
    "    d = tsne[tsne['source']=='clst']\n",
    "    p.square(x_axis, y_axis, line_color='black', fill_color='red', size=s2, source=d)\n",
    "    d = tsne[tsne['source']=='reference']\n",
    "    p.diamond(x_axis, y_axis, line_color='black', fill_color='blue', size=s3, source=d)\n",
    "    return p"
   ]
  },
  {
   "cell_type": "code",
   "execution_count": 11,
   "metadata": {},
   "outputs": [
    {
     "name": "stderr",
     "output_type": "stream",
     "text": [
      "INFO:bokeh.io.state:Session output file '../docs/pages/ashure/clustering_tsne_1.html' already exists, will be overwritten.\n"
     ]
    },
    {
     "data": {
      "text/plain": [
       "'/Users/zchen/Desktop/ashure/docs/pages/ashure/clustering_tsne_1.html'"
      ]
     },
     "execution_count": 11,
     "metadata": {},
     "output_type": "execute_result"
    }
   ],
   "source": [
    "p = make_bokeh_scatter(tsne, x_axis='f_0', y_axis='f_1', s1=4, s2=5, s3=7, color='clst_id_color')\n",
    "p.xaxis.axis_label = 'tSNE1'\n",
    "p.yaxis.axis_label = 'tSNE2'\n",
    "\n",
    "grid = bokeh.layouts.gridplot([[p]], plot_width=600, plot_height=500)\n",
    "bokeh.plotting.output_file('../docs/pages/ashure/clustering_tsne_1.html')\n",
    "bokeh.plotting.save(grid)\n",
    "#bokeh.plotting.show(grid)"
   ]
  },
  {
   "cell_type": "markdown",
   "metadata": {},
   "source": [
    "<iframe src='clustering_tsne_1.html'\n",
    "    sandbox='allow-same-origin allow-scripts'\n",
    "    width='100%'\n",
    "    height='500'\n",
    "    scrolling='no'\n",
    "    seamless='seamless'\n",
    "    frameborder='0'>\n",
    "</iframe>\n",
    "\n",
    "Each circle above represents a sequence from the pseudo reference database.\n",
    "Red squares are the cluster centers computed by our augmented implementation of OPTICS.\n",
    "Blue diamonds are the haplotype sequences.\n",
    "\n",
    "Each sequence from the pseudo reference database is currently colorized by the `cluster_id`, which is the label associated with each cluster center computed by our implementation of OPTICS.\n",
    "\n",
    "On this t-SNE plot, data points lying close to each other have low pairwise distance, which mean their sequences match closely to each other. Data points far apart are more unrelated. The overlap between haplotype sequence and cluster centers on the t-SNE plot indicate that cluster centers computed by the `clst` module match closely to the true haplotype sequence.\n",
    "\n",
    "Despite these reads being highly errored, density based clustering approaches, such as OPTICS, are able to classify them into haplotype groups. Another benefit of OPTICS is computation distances from a theoretical cluster center, which is termed reachability. Lower reachability means the sequence is closer to the centroid of a cluster of sequence. Reachability is highly correlated with error in the sequence, and we are able to use it to infer the true haplotype sequence from corrupted reads.\n",
    "\n",
    "Why this works is more apparent if we examine the ordering vs reachability plot generated by OPTICS."
   ]
  },
  {
   "cell_type": "markdown",
   "metadata": {},
   "source": [
    "## Correlation between reachability and error profile of reads"
   ]
  },
  {
   "cell_type": "code",
   "execution_count": 12,
   "metadata": {},
   "outputs": [
    {
     "name": "stderr",
     "output_type": "stream",
     "text": [
      "INFO:bokeh.io.state:Session output file '../docs/pages/ashure/clustering_tsne_2a.html' already exists, will be overwritten.\n"
     ]
    },
    {
     "data": {
      "text/plain": [
       "'/Users/zchen/Desktop/ashure/docs/pages/ashure/clustering_tsne_2a.html'"
      ]
     },
     "execution_count": 12,
     "metadata": {},
     "output_type": "execute_result"
    }
   ],
   "source": [
    "p1 = make_bokeh_scatter(tsne, x_axis='optics_order', y_axis='reachability')\n",
    "p1.xaxis.axis_label = 'OPTICS ordering'\n",
    "p1.yaxis.axis_label = 'reachability'\n",
    "\n",
    "tsne['ref_error'] = 1-tsne['ref_match']\n",
    "p2 = make_bokeh_scatter(tsne, x_axis='optics_order', y_axis='ref_error')\n",
    "p2.xaxis.axis_label = 'OPTICS ordering'\n",
    "p2.yaxis.axis_label = 'read error'\n",
    "# share x-axis between p1 and p2\n",
    "p2.x_range = p1.x_range\n",
    "\n",
    "grid = bokeh.layouts.gridplot([[p1],[p2]], plot_width=800, plot_height=200)\n",
    "bokeh.plotting.output_file('../docs/pages/ashure/clustering_tsne_2a.html')\n",
    "bokeh.plotting.save(grid)\n",
    "#bokeh.plotting.show(grid)"
   ]
  },
  {
   "cell_type": "markdown",
   "metadata": {},
   "source": [
    "<iframe src='clustering_tsne_2a.html'\n",
    "    sandbox='allow-same-origin allow-scripts'\n",
    "    width='100%'\n",
    "    height='500'\n",
    "    scrolling='no'\n",
    "    seamless='seamless'\n",
    "    frameborder='0'>\n",
    "</iframe>\n",
    "\n",
    "The OPTICS algorithm attempts to identify centroid regions in a set of data based on density. After centroid regions are identified, data points are ordered relative to their distance from these initial centroids. The reachability metric is the distance from the center of a cluster.\n",
    "\n",
    "The resulting reachability vs ordering plot reveal a series of dips, which correspond to spatially dense clusters of data. In the sequence data context, these low reachability regions correspond to sequences which match closely to each other and have low error. Moving away from the cluster center, the sequences become more disimilar and have higher error.\n",
    "\n",
    "Our augmented implementation of OPTICS (the `clst` module) tries to infer the identity of the haplotype sequence by performing multi-alignment on sequences in these low reachability regions and computing an error corrected consensus. This procedure is analogous to computing the centroid of a set of data in k-means clustering."
   ]
  },
  {
   "cell_type": "markdown",
   "metadata": {},
   "source": [
    "## tSNE without haplotype and cluster center bias\n",
    "The above plots were computed with haplotype sequences and cluster center sequences included in the data. This could potentially bias clustering results. To show that OPTICS can identify low error reads unbiasly, the same analysis is repeated while excluding cluster center and haplotype sequences from the computation."
   ]
  },
  {
   "cell_type": "code",
   "execution_count": 13,
   "metadata": {
    "scrolled": true
   },
   "outputs": [
    {
     "name": "stdout",
     "output_type": "stream",
     "text": [
      "pid[90550] 2020-10-09 23:01:43.073 INFO: Making directory ./minimap2/\n"
     ]
    }
   ],
   "source": [
    "# load data\n",
    "df = pd.read_csv('pseudo_ref.csv.gz')\n",
    "df_pw = compute_pw(df[['id','sequence']])\n",
    "df_pw.to_csv('pseudo_pw_unbiased.csv.gz', index=False, compression='infer') # save the data"
   ]
  },
  {
   "cell_type": "code",
   "execution_count": 14,
   "metadata": {},
   "outputs": [
    {
     "name": "stdout",
     "output_type": "stream",
     "text": [
      "pid[90550] 2020-10-09 23:01:56.906 INFO: running sklearn tsne with n_comp = 2\n",
      "pid[90550] 2020-10-09 23:03:00.792 INFO: Running OPTICS\n",
      "pid[90550] 2020-10-09 23:03:01.119 INFO: max_eps = 0.5\n",
      "pid[90550] 2020-10-09 23:03:01.120 INFO: clust_OPTICS: iter=0 using min_samples=2763\n",
      "pid[90550] 2020-10-09 23:03:02.387 INFO: clust_OPTICS: clusters=0 outliers=5526 delta=1381.5\n",
      "pid[90550] 2020-10-09 23:03:02.388 INFO: clust_OPTICS: iter=1 using min_samples=1382\n"
     ]
    },
    {
     "name": "stderr",
     "output_type": "stream",
     "text": [
      "/usr/local/lib/python3.8/site-packages/sklearn/cluster/_optics.py:501: UserWarning: All reachability values are inf. Set a larger max_eps or all data will be considered outliers.\n",
      "  warnings.warn(\"All reachability values are inf. Set a larger\"\n"
     ]
    },
    {
     "name": "stdout",
     "output_type": "stream",
     "text": [
      "pid[90550] 2020-10-09 23:03:03.266 INFO: clust_OPTICS: clusters=0 outliers=5526 delta=1381\n",
      "pid[90550] 2020-10-09 23:03:03.267 INFO: clust_OPTICS: iter=2 using min_samples=692\n"
     ]
    },
    {
     "name": "stderr",
     "output_type": "stream",
     "text": [
      "/usr/local/lib/python3.8/site-packages/sklearn/cluster/_optics.py:501: UserWarning: All reachability values are inf. Set a larger max_eps or all data will be considered outliers.\n",
      "  warnings.warn(\"All reachability values are inf. Set a larger\"\n"
     ]
    },
    {
     "name": "stdout",
     "output_type": "stream",
     "text": [
      "pid[90550] 2020-10-09 23:03:04.031 INFO: clust_OPTICS: clusters=0 outliers=5526 delta=690\n",
      "pid[90550] 2020-10-09 23:03:04.033 INFO: clust_OPTICS: iter=3 using min_samples=347\n"
     ]
    },
    {
     "name": "stderr",
     "output_type": "stream",
     "text": [
      "/usr/local/lib/python3.8/site-packages/sklearn/cluster/_optics.py:501: UserWarning: All reachability values are inf. Set a larger max_eps or all data will be considered outliers.\n",
      "  warnings.warn(\"All reachability values are inf. Set a larger\"\n"
     ]
    },
    {
     "name": "stdout",
     "output_type": "stream",
     "text": [
      "pid[90550] 2020-10-09 23:03:04.703 INFO: clust_OPTICS: clusters=0 outliers=5526 delta=345\n",
      "pid[90550] 2020-10-09 23:03:04.704 INFO: clust_OPTICS: iter=4 using min_samples=175\n"
     ]
    },
    {
     "name": "stderr",
     "output_type": "stream",
     "text": [
      "/usr/local/lib/python3.8/site-packages/sklearn/cluster/_optics.py:501: UserWarning: All reachability values are inf. Set a larger max_eps or all data will be considered outliers.\n",
      "  warnings.warn(\"All reachability values are inf. Set a larger\"\n"
     ]
    },
    {
     "name": "stdout",
     "output_type": "stream",
     "text": [
      "pid[90550] 2020-10-09 23:03:05.379 INFO: clust_OPTICS: clusters=2 outliers=5516 delta=172\n",
      "pid[90550] 2020-10-09 23:03:05.403 INFO: clust_OPTICS: iter=5 using min_samples=89\n",
      "pid[90550] 2020-10-09 23:03:06.402 INFO: clust_OPTICS: clusters=9 outliers=5019 delta=86\n",
      "pid[90550] 2020-10-09 23:03:06.403 INFO: clust_OPTICS: iter=6 using min_samples=46\n",
      "pid[90550] 2020-10-09 23:03:08.593 INFO: clust_OPTICS: clusters=13 outliers=3903 delta=43\n",
      "pid[90550] 2020-10-09 23:03:08.599 INFO: clust_OPTICS: iter=7 using min_samples=25\n",
      "pid[90550] 2020-10-09 23:03:13.477 INFO: clust_OPTICS: clusters=19 outliers=2668 delta=21\n",
      "pid[90550] 2020-10-09 23:03:13.478 INFO: clust_OPTICS: iter=8 using min_samples=15\n",
      "pid[90550] 2020-10-09 23:03:23.638 INFO: clust_OPTICS: clusters=23 outliers=1585 delta=10\n",
      "pid[90550] 2020-10-09 23:03:23.641 INFO: clust_OPTICS: iter=9 using min_samples=10\n",
      "pid[90550] 2020-10-09 23:03:42.463 INFO: clust_OPTICS: clusters=23 outliers=734 delta=5\n",
      "pid[90550] 2020-10-09 23:03:42.464 INFO: clust_OPTICS: iter=10 using min_samples=8\n",
      "pid[90550] 2020-10-09 23:04:12.257 INFO: clust_OPTICS: clusters=9 outliers=212 delta=2\n",
      "pid[90550] 2020-10-09 23:04:12.258 INFO: clust_OPTICS: iter=11 using min_samples=11\n",
      "pid[90550] 2020-10-09 23:04:28.341 INFO: clust_OPTICS: clusters=24 outliers=852 delta=1\n",
      "pid[90550] 2020-10-09 23:04:28.342 INFO: clust_OPTICS: iter=12 using min_samples=12\n",
      "pid[90550] 2020-10-09 23:04:42.376 INFO: clust_OPTICS: clusters=23 outliers=1002 delta=-1\n",
      "pid[90550] 2020-10-09 23:04:42.377 INFO: clust_OPTICS: iter=13 using min_samples=10\n",
      "pid[90550] 2020-10-09 23:05:01.080 INFO: clust_OPTICS: clusters=23 outliers=734 delta=-1\n",
      "pid[90550] 2020-10-09 23:05:01.081 INFO: clust_OPTICS: iter=14 using min_samples=9\n",
      "pid[90550] 2020-10-09 23:05:23.285 INFO: clust_OPTICS: clusters=20 outliers=530 delta=1\n",
      "pid[90550] 2020-10-09 23:05:23.287 INFO: n_clusters=24 n_unclustered=852 N=5526\n"
     ]
    }
   ],
   "source": [
    "# load pairwise data\n",
    "df = pd.read_csv('pseudo_pw_unbiased.csv.gz')\n",
    "# get the distance matrix\n",
    "m = get_dist_matrix(df)\n",
    "# perform tsne and optics on the data\n",
    "tsne = get_cluster(m, metric='precomputed', min_samples=None)\n",
    "tsne.to_csv('pseudo_tsne_unbiased.csv.gz', compression='infer', index=False)"
   ]
  },
  {
   "cell_type": "code",
   "execution_count": 15,
   "metadata": {},
   "outputs": [
    {
     "name": "stdout",
     "output_type": "stream",
     "text": [
      "pid[90550] 2020-10-09 23:05:23.529 INFO: Making directory ./minimap2/\n",
      "pid[90550] 2020-10-09 23:05:28.051 INFO: Making directory ./minimap2/\n"
     ]
    }
   ],
   "source": [
    "# compute error profile of each read\n",
    "pfile = 'pseudo_ref.csv.gz'\n",
    "rfile = 'ref_db.fa'\n",
    "cfile = 'pseudo_clst.csv.gz'\n",
    "tfile = 'pseudo_tsne_unbiased.csv.gz'\n",
    "tsne = match_haplotypes(pfile, rfile, cfile, tfile)"
   ]
  },
  {
   "cell_type": "markdown",
   "metadata": {},
   "source": [
    "### tSNE plot of sequences colorized by haplotype identity"
   ]
  },
  {
   "cell_type": "code",
   "execution_count": 16,
   "metadata": {},
   "outputs": [
    {
     "name": "stderr",
     "output_type": "stream",
     "text": [
      "INFO:bokeh.io.state:Session output file '../docs/pages/ashure/clustering_tsne_3.html' already exists, will be overwritten.\n"
     ]
    },
    {
     "data": {
      "text/plain": [
       "'/Users/zchen/Desktop/ashure/docs/pages/ashure/clustering_tsne_3.html'"
      ]
     },
     "execution_count": 16,
     "metadata": {},
     "output_type": "execute_result"
    }
   ],
   "source": [
    "p = make_bokeh_scatter(tsne, x_axis='f_0', y_axis='f_1', s1=3, s2=5, s3=7, color='ref_id_color')\n",
    "p.xaxis.axis_label = 'tSNE1'\n",
    "p.yaxis.axis_label = 'tSNE2'\n",
    "\n",
    "grid = bokeh.layouts.gridplot([[p]], plot_width=600, plot_height=500)\n",
    "bokeh.plotting.output_file('../docs/pages/ashure/clustering_tsne_3.html')\n",
    "bokeh.plotting.save(grid)\n",
    "#bokeh.plotting.show(grid)"
   ]
  },
  {
   "cell_type": "markdown",
   "metadata": {},
   "source": [
    "<iframe src='clustering_tsne_3.html'\n",
    "    sandbox='allow-same-origin allow-scripts'\n",
    "    width='100%'\n",
    "    height='500'\n",
    "    scrolling='no'\n",
    "    seamless='seamless'\n",
    "    frameborder='0'>\n",
    "</iframe>\n",
    "Here the tSNE plot has been colorized by the haplotype sequence. Sequences from the same haplotype are clustered together spatially."
   ]
  },
  {
   "cell_type": "markdown",
   "metadata": {},
   "source": [
    "### Reachability plot colorized by haplotype identity"
   ]
  },
  {
   "cell_type": "code",
   "execution_count": 17,
   "metadata": {
    "scrolled": true
   },
   "outputs": [
    {
     "name": "stderr",
     "output_type": "stream",
     "text": [
      "INFO:bokeh.io.state:Session output file '../docs/pages/ashure/clustering_tsne_4a.html' already exists, will be overwritten.\n"
     ]
    },
    {
     "data": {
      "text/plain": [
       "'/Users/zchen/Desktop/ashure/docs/pages/ashure/clustering_tsne_4a.html'"
      ]
     },
     "execution_count": 17,
     "metadata": {},
     "output_type": "execute_result"
    }
   ],
   "source": [
    "p1 = make_bokeh_scatter(tsne, x_axis='optics_order', y_axis='reachability', color='ref_id_color')\n",
    "p1.xaxis.axis_label = 'OPTICS ordering'\n",
    "p1.yaxis.axis_label = 'reachability'\n",
    "\n",
    "tsne['ref_error'] = 1-tsne['ref_match']\n",
    "p2 = make_bokeh_scatter(tsne, x_axis='optics_order', y_axis='ref_error', color='ref_id_color')\n",
    "p2.xaxis.axis_label = 'OPTICS ordering'\n",
    "p2.yaxis.axis_label = 'read error'\n",
    "# share x-axis between p1 and p2\n",
    "p2.x_range = p1.x_range\n",
    "\n",
    "grid = bokeh.layouts.gridplot([[p1],[p2]], plot_width=800, plot_height=200)\n",
    "bokeh.plotting.output_file('../docs/pages/ashure/clustering_tsne_4a.html')\n",
    "bokeh.plotting.save(grid)\n",
    "#bokeh.plotting.show(grid)"
   ]
  },
  {
   "cell_type": "markdown",
   "metadata": {},
   "source": [
    "<iframe src='clustering_tsne_4a.html'\n",
    "    sandbox='allow-same-origin allow-scripts'\n",
    "    width='100%'\n",
    "    height='500'\n",
    "    scrolling='no'\n",
    "    seamless='seamless'\n",
    "    frameborder='0'>\n",
    "</iframe>\n",
    "Here the reachability plot has been colorized by the haplotype sequence. Sequences with low reachability have low error. Sequences from the same haplotype fall in the same cluster as defined by OPTICS."
   ]
  },
  {
   "cell_type": "code",
   "execution_count": 18,
   "metadata": {},
   "outputs": [
    {
     "name": "stderr",
     "output_type": "stream",
     "text": [
      "INFO:bokeh.io.state:Session output file '../docs/pages/ashure/clustering_tsne_4b.html' already exists, will be overwritten.\n"
     ]
    },
    {
     "data": {
      "text/plain": [
       "'/Users/zchen/Desktop/ashure/docs/pages/ashure/clustering_tsne_4b.html'"
      ]
     },
     "execution_count": 18,
     "metadata": {},
     "output_type": "execute_result"
    }
   ],
   "source": [
    "tsne['ref_error'] = 1-tsne['ref_match']\n",
    "p1 = make_bokeh_scatter(tsne, x_axis='f_0', y_axis='f_1',s1=3,s2=5,s3=7,color='ref_error',R=[0,0.2])\n",
    "p1.xaxis.axis_label = 'tSNE1'\n",
    "p1.yaxis.axis_label = 'tSNE2'\n",
    "p1.title.text = 'read error'\n",
    "\n",
    "p2 = make_bokeh_scatter(tsne, x_axis='f_0', y_axis='f_1',s1=3,s2=5,s3=7,color='reachability',R=[0,0.4])\n",
    "p2.xaxis.axis_label = 'tSNE1'\n",
    "p2.yaxis.axis_label = 'tSNE2'\n",
    "p2.title.text = 'reachability'\n",
    "\n",
    "# share x and y axis between p1 and p2\n",
    "p2.x_range = p1.x_range\n",
    "p2.y_range = p1.y_range\n",
    "\n",
    "grid = bokeh.layouts.gridplot([[p1,p2]], plot_width=600, plot_height=500)\n",
    "bokeh.plotting.output_file('../docs/pages/ashure/clustering_tsne_4b.html')\n",
    "bokeh.plotting.save(grid)\n",
    "#bokeh.plotting.show(grid)"
   ]
  },
  {
   "cell_type": "markdown",
   "metadata": {},
   "source": [
    "<iframe src='clustering_tsne_4b.html'\n",
    "    sandbox='allow-same-origin allow-scripts'\n",
    "    width='100%'\n",
    "    height='500'\n",
    "    scrolling='no'\n",
    "    seamless='seamless'\n",
    "    frameborder='0'>\n",
    "</iframe>\n",
    "The left plot is colorized by read error. The right plot is colorized by the reachability computed by OPTICS. On this 2D map, cluster centroids tend to have low error and low reachability relative to peripheries of the clusters. This recapitulates what is already seen in the OPTICS ordering plot."
   ]
  },
  {
   "cell_type": "markdown",
   "metadata": {},
   "source": [
    "## OPTICS on large datasets and room for improvement\n",
    "The naive implementation of OPTICS in sci-kit learn presented above was unsuitable for clustering large (>10000 sequences) datasets. Computing pairwise distances for 10000 sequences is CPU and memory intensive. To make OPTICS tractable for computation on a laptop, random sampling was used to estimate the global distribution of pairwise distances, and OPTICS was modified to work on subsets of the whole data. This approach avoided computation of large pairwise distance matrices, saving significant memory and CPU time. However, this algorithm must now be run iteratively a kin to how k-means clustering works. If enough iterations are run, all cluster centers could be found. However, convergence is not always guaranteed. As shown in the tSNE plots, some cluster centers are still suboptimal, and we are still seeking ways to filter out bad results."
   ]
  }
 ],
 "metadata": {
  "kernelspec": {
   "display_name": "Python 3",
   "language": "python",
   "name": "python3"
  },
  "language_info": {
   "codemirror_mode": {
    "name": "ipython",
    "version": 3
   },
   "file_extension": ".py",
   "mimetype": "text/x-python",
   "name": "python",
   "nbconvert_exporter": "python",
   "pygments_lexer": "ipython3",
   "version": "3.8.5"
  }
 },
 "nbformat": 4,
 "nbformat_minor": 4
}
