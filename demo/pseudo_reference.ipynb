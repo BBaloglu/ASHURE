{
 "cells": [
  {
   "cell_type": "markdown",
   "metadata": {},
   "source": [
    "# Generating a pseudo reference database"
   ]
  },
  {
   "cell_type": "code",
   "execution_count": 68,
   "metadata": {},
   "outputs": [
    {
     "data": {
      "text/html": [
       "\n",
       "    <div class=\"bk-root\">\n",
       "        <a href=\"https://bokeh.org\" target=\"_blank\" class=\"bk-logo bk-logo-small bk-logo-notebook\"></a>\n",
       "        <span id=\"4536\">Loading BokehJS ...</span>\n",
       "    </div>"
      ]
     },
     "metadata": {},
     "output_type": "display_data"
    },
    {
     "data": {
      "application/javascript": [
       "\n",
       "(function(root) {\n",
       "  function now() {\n",
       "    return new Date();\n",
       "  }\n",
       "\n",
       "  var force = true;\n",
       "\n",
       "  if (typeof root._bokeh_onload_callbacks === \"undefined\" || force === true) {\n",
       "    root._bokeh_onload_callbacks = [];\n",
       "    root._bokeh_is_loading = undefined;\n",
       "  }\n",
       "\n",
       "  var JS_MIME_TYPE = 'application/javascript';\n",
       "  var HTML_MIME_TYPE = 'text/html';\n",
       "  var EXEC_MIME_TYPE = 'application/vnd.bokehjs_exec.v0+json';\n",
       "  var CLASS_NAME = 'output_bokeh rendered_html';\n",
       "\n",
       "  /**\n",
       "   * Render data to the DOM node\n",
       "   */\n",
       "  function render(props, node) {\n",
       "    var script = document.createElement(\"script\");\n",
       "    node.appendChild(script);\n",
       "  }\n",
       "\n",
       "  /**\n",
       "   * Handle when an output is cleared or removed\n",
       "   */\n",
       "  function handleClearOutput(event, handle) {\n",
       "    var cell = handle.cell;\n",
       "\n",
       "    var id = cell.output_area._bokeh_element_id;\n",
       "    var server_id = cell.output_area._bokeh_server_id;\n",
       "    // Clean up Bokeh references\n",
       "    if (id != null && id in Bokeh.index) {\n",
       "      Bokeh.index[id].model.document.clear();\n",
       "      delete Bokeh.index[id];\n",
       "    }\n",
       "\n",
       "    if (server_id !== undefined) {\n",
       "      // Clean up Bokeh references\n",
       "      var cmd = \"from bokeh.io.state import curstate; print(curstate().uuid_to_server['\" + server_id + \"'].get_sessions()[0].document.roots[0]._id)\";\n",
       "      cell.notebook.kernel.execute(cmd, {\n",
       "        iopub: {\n",
       "          output: function(msg) {\n",
       "            var id = msg.content.text.trim();\n",
       "            if (id in Bokeh.index) {\n",
       "              Bokeh.index[id].model.document.clear();\n",
       "              delete Bokeh.index[id];\n",
       "            }\n",
       "          }\n",
       "        }\n",
       "      });\n",
       "      // Destroy server and session\n",
       "      var cmd = \"import bokeh.io.notebook as ion; ion.destroy_server('\" + server_id + \"')\";\n",
       "      cell.notebook.kernel.execute(cmd);\n",
       "    }\n",
       "  }\n",
       "\n",
       "  /**\n",
       "   * Handle when a new output is added\n",
       "   */\n",
       "  function handleAddOutput(event, handle) {\n",
       "    var output_area = handle.output_area;\n",
       "    var output = handle.output;\n",
       "\n",
       "    // limit handleAddOutput to display_data with EXEC_MIME_TYPE content only\n",
       "    if ((output.output_type != \"display_data\") || (!output.data.hasOwnProperty(EXEC_MIME_TYPE))) {\n",
       "      return\n",
       "    }\n",
       "\n",
       "    var toinsert = output_area.element.find(\".\" + CLASS_NAME.split(' ')[0]);\n",
       "\n",
       "    if (output.metadata[EXEC_MIME_TYPE][\"id\"] !== undefined) {\n",
       "      toinsert[toinsert.length - 1].firstChild.textContent = output.data[JS_MIME_TYPE];\n",
       "      // store reference to embed id on output_area\n",
       "      output_area._bokeh_element_id = output.metadata[EXEC_MIME_TYPE][\"id\"];\n",
       "    }\n",
       "    if (output.metadata[EXEC_MIME_TYPE][\"server_id\"] !== undefined) {\n",
       "      var bk_div = document.createElement(\"div\");\n",
       "      bk_div.innerHTML = output.data[HTML_MIME_TYPE];\n",
       "      var script_attrs = bk_div.children[0].attributes;\n",
       "      for (var i = 0; i < script_attrs.length; i++) {\n",
       "        toinsert[toinsert.length - 1].firstChild.setAttribute(script_attrs[i].name, script_attrs[i].value);\n",
       "        toinsert[toinsert.length - 1].firstChild.textContent = bk_div.children[0].textContent\n",
       "      }\n",
       "      // store reference to server id on output_area\n",
       "      output_area._bokeh_server_id = output.metadata[EXEC_MIME_TYPE][\"server_id\"];\n",
       "    }\n",
       "  }\n",
       "\n",
       "  function register_renderer(events, OutputArea) {\n",
       "\n",
       "    function append_mime(data, metadata, element) {\n",
       "      // create a DOM node to render to\n",
       "      var toinsert = this.create_output_subarea(\n",
       "        metadata,\n",
       "        CLASS_NAME,\n",
       "        EXEC_MIME_TYPE\n",
       "      );\n",
       "      this.keyboard_manager.register_events(toinsert);\n",
       "      // Render to node\n",
       "      var props = {data: data, metadata: metadata[EXEC_MIME_TYPE]};\n",
       "      render(props, toinsert[toinsert.length - 1]);\n",
       "      element.append(toinsert);\n",
       "      return toinsert\n",
       "    }\n",
       "\n",
       "    /* Handle when an output is cleared or removed */\n",
       "    events.on('clear_output.CodeCell', handleClearOutput);\n",
       "    events.on('delete.Cell', handleClearOutput);\n",
       "\n",
       "    /* Handle when a new output is added */\n",
       "    events.on('output_added.OutputArea', handleAddOutput);\n",
       "\n",
       "    /**\n",
       "     * Register the mime type and append_mime function with output_area\n",
       "     */\n",
       "    OutputArea.prototype.register_mime_type(EXEC_MIME_TYPE, append_mime, {\n",
       "      /* Is output safe? */\n",
       "      safe: true,\n",
       "      /* Index of renderer in `output_area.display_order` */\n",
       "      index: 0\n",
       "    });\n",
       "  }\n",
       "\n",
       "  // register the mime type if in Jupyter Notebook environment and previously unregistered\n",
       "  if (root.Jupyter !== undefined) {\n",
       "    var events = require('base/js/events');\n",
       "    var OutputArea = require('notebook/js/outputarea').OutputArea;\n",
       "\n",
       "    if (OutputArea.prototype.mime_types().indexOf(EXEC_MIME_TYPE) == -1) {\n",
       "      register_renderer(events, OutputArea);\n",
       "    }\n",
       "  }\n",
       "\n",
       "  \n",
       "  if (typeof (root._bokeh_timeout) === \"undefined\" || force === true) {\n",
       "    root._bokeh_timeout = Date.now() + 5000;\n",
       "    root._bokeh_failed_load = false;\n",
       "  }\n",
       "\n",
       "  var NB_LOAD_WARNING = {'data': {'text/html':\n",
       "     \"<div style='background-color: #fdd'>\\n\"+\n",
       "     \"<p>\\n\"+\n",
       "     \"BokehJS does not appear to have successfully loaded. If loading BokehJS from CDN, this \\n\"+\n",
       "     \"may be due to a slow or bad network connection. Possible fixes:\\n\"+\n",
       "     \"</p>\\n\"+\n",
       "     \"<ul>\\n\"+\n",
       "     \"<li>re-rerun `output_notebook()` to attempt to load from CDN again, or</li>\\n\"+\n",
       "     \"<li>use INLINE resources instead, as so:</li>\\n\"+\n",
       "     \"</ul>\\n\"+\n",
       "     \"<code>\\n\"+\n",
       "     \"from bokeh.resources import INLINE\\n\"+\n",
       "     \"output_notebook(resources=INLINE)\\n\"+\n",
       "     \"</code>\\n\"+\n",
       "     \"</div>\"}};\n",
       "\n",
       "  function display_loaded() {\n",
       "    var el = document.getElementById(\"4536\");\n",
       "    if (el != null) {\n",
       "      el.textContent = \"BokehJS is loading...\";\n",
       "    }\n",
       "    if (root.Bokeh !== undefined) {\n",
       "      if (el != null) {\n",
       "        el.textContent = \"BokehJS \" + root.Bokeh.version + \" successfully loaded.\";\n",
       "      }\n",
       "    } else if (Date.now() < root._bokeh_timeout) {\n",
       "      setTimeout(display_loaded, 100)\n",
       "    }\n",
       "  }\n",
       "\n",
       "\n",
       "  function run_callbacks() {\n",
       "    try {\n",
       "      root._bokeh_onload_callbacks.forEach(function(callback) {\n",
       "        if (callback != null)\n",
       "          callback();\n",
       "      });\n",
       "    } finally {\n",
       "      delete root._bokeh_onload_callbacks\n",
       "    }\n",
       "    console.debug(\"Bokeh: all callbacks have finished\");\n",
       "  }\n",
       "\n",
       "  function load_libs(css_urls, js_urls, callback) {\n",
       "    if (css_urls == null) css_urls = [];\n",
       "    if (js_urls == null) js_urls = [];\n",
       "\n",
       "    root._bokeh_onload_callbacks.push(callback);\n",
       "    if (root._bokeh_is_loading > 0) {\n",
       "      console.debug(\"Bokeh: BokehJS is being loaded, scheduling callback at\", now());\n",
       "      return null;\n",
       "    }\n",
       "    if (js_urls == null || js_urls.length === 0) {\n",
       "      run_callbacks();\n",
       "      return null;\n",
       "    }\n",
       "    console.debug(\"Bokeh: BokehJS not loaded, scheduling load and callback at\", now());\n",
       "    root._bokeh_is_loading = css_urls.length + js_urls.length;\n",
       "\n",
       "    function on_load() {\n",
       "      root._bokeh_is_loading--;\n",
       "      if (root._bokeh_is_loading === 0) {\n",
       "        console.debug(\"Bokeh: all BokehJS libraries/stylesheets loaded\");\n",
       "        run_callbacks()\n",
       "      }\n",
       "    }\n",
       "\n",
       "    function on_error() {\n",
       "      console.error(\"failed to load \" + url);\n",
       "    }\n",
       "\n",
       "    for (var i = 0; i < css_urls.length; i++) {\n",
       "      var url = css_urls[i];\n",
       "      const element = document.createElement(\"link\");\n",
       "      element.onload = on_load;\n",
       "      element.onerror = on_error;\n",
       "      element.rel = \"stylesheet\";\n",
       "      element.type = \"text/css\";\n",
       "      element.href = url;\n",
       "      console.debug(\"Bokeh: injecting link tag for BokehJS stylesheet: \", url);\n",
       "      document.body.appendChild(element);\n",
       "    }\n",
       "\n",
       "    const hashes = {\"https://cdn.bokeh.org/bokeh/release/bokeh-2.1.1.min.js\": \"kLr4fYcqcSpbuI95brIH3vnnYCquzzSxHPU6XGQCIkQRGJwhg0StNbj1eegrHs12\", \"https://cdn.bokeh.org/bokeh/release/bokeh-widgets-2.1.1.min.js\": \"xIGPmVtaOm+z0BqfSOMn4lOR6ciex448GIKG4eE61LsAvmGj48XcMQZtKcE/UXZe\", \"https://cdn.bokeh.org/bokeh/release/bokeh-tables-2.1.1.min.js\": \"Dc9u1wF/0zApGIWoBbH77iWEHtdmkuYWG839Uzmv8y8yBLXebjO9ZnERsde5Ln/P\", \"https://cdn.bokeh.org/bokeh/release/bokeh-gl-2.1.1.min.js\": \"cT9JaBz7GiRXdENrJLZNSC6eMNF3nh3fa5fTF51Svp+ukxPdwcU5kGXGPBgDCa2j\"};\n",
       "\n",
       "    for (var i = 0; i < js_urls.length; i++) {\n",
       "      var url = js_urls[i];\n",
       "      var element = document.createElement('script');\n",
       "      element.onload = on_load;\n",
       "      element.onerror = on_error;\n",
       "      element.async = false;\n",
       "      element.src = url;\n",
       "      if (url in hashes) {\n",
       "        element.crossOrigin = \"anonymous\";\n",
       "        element.integrity = \"sha384-\" + hashes[url];\n",
       "      }\n",
       "      console.debug(\"Bokeh: injecting script tag for BokehJS library: \", url);\n",
       "      document.head.appendChild(element);\n",
       "    }\n",
       "  };\n",
       "\n",
       "  function inject_raw_css(css) {\n",
       "    const element = document.createElement(\"style\");\n",
       "    element.appendChild(document.createTextNode(css));\n",
       "    document.body.appendChild(element);\n",
       "  }\n",
       "\n",
       "  \n",
       "  var js_urls = [\"https://cdn.bokeh.org/bokeh/release/bokeh-2.1.1.min.js\", \"https://cdn.bokeh.org/bokeh/release/bokeh-widgets-2.1.1.min.js\", \"https://cdn.bokeh.org/bokeh/release/bokeh-tables-2.1.1.min.js\", \"https://cdn.bokeh.org/bokeh/release/bokeh-gl-2.1.1.min.js\"];\n",
       "  var css_urls = [];\n",
       "  \n",
       "\n",
       "  var inline_js = [\n",
       "    function(Bokeh) {\n",
       "      Bokeh.set_log_level(\"info\");\n",
       "    },\n",
       "    function(Bokeh) {\n",
       "    \n",
       "    \n",
       "    }\n",
       "  ];\n",
       "\n",
       "  function run_inline_js() {\n",
       "    \n",
       "    if (root.Bokeh !== undefined || force === true) {\n",
       "      \n",
       "    for (var i = 0; i < inline_js.length; i++) {\n",
       "      inline_js[i].call(root, root.Bokeh);\n",
       "    }\n",
       "    if (force === true) {\n",
       "        display_loaded();\n",
       "      }} else if (Date.now() < root._bokeh_timeout) {\n",
       "      setTimeout(run_inline_js, 100);\n",
       "    } else if (!root._bokeh_failed_load) {\n",
       "      console.log(\"Bokeh: BokehJS failed to load within specified timeout.\");\n",
       "      root._bokeh_failed_load = true;\n",
       "    } else if (force !== true) {\n",
       "      var cell = $(document.getElementById(\"4536\")).parents('.cell').data().cell;\n",
       "      cell.output_area.append_execute_result(NB_LOAD_WARNING)\n",
       "    }\n",
       "\n",
       "  }\n",
       "\n",
       "  if (root._bokeh_is_loading === 0) {\n",
       "    console.debug(\"Bokeh: BokehJS loaded, going straight to plotting\");\n",
       "    run_inline_js();\n",
       "  } else {\n",
       "    load_libs(css_urls, js_urls, function() {\n",
       "      console.debug(\"Bokeh: BokehJS plotting callback run at\", now());\n",
       "      run_inline_js();\n",
       "    });\n",
       "  }\n",
       "}(window));"
      ],
      "application/vnd.bokehjs_load.v0+json": "\n(function(root) {\n  function now() {\n    return new Date();\n  }\n\n  var force = true;\n\n  if (typeof root._bokeh_onload_callbacks === \"undefined\" || force === true) {\n    root._bokeh_onload_callbacks = [];\n    root._bokeh_is_loading = undefined;\n  }\n\n  \n\n  \n  if (typeof (root._bokeh_timeout) === \"undefined\" || force === true) {\n    root._bokeh_timeout = Date.now() + 5000;\n    root._bokeh_failed_load = false;\n  }\n\n  var NB_LOAD_WARNING = {'data': {'text/html':\n     \"<div style='background-color: #fdd'>\\n\"+\n     \"<p>\\n\"+\n     \"BokehJS does not appear to have successfully loaded. If loading BokehJS from CDN, this \\n\"+\n     \"may be due to a slow or bad network connection. Possible fixes:\\n\"+\n     \"</p>\\n\"+\n     \"<ul>\\n\"+\n     \"<li>re-rerun `output_notebook()` to attempt to load from CDN again, or</li>\\n\"+\n     \"<li>use INLINE resources instead, as so:</li>\\n\"+\n     \"</ul>\\n\"+\n     \"<code>\\n\"+\n     \"from bokeh.resources import INLINE\\n\"+\n     \"output_notebook(resources=INLINE)\\n\"+\n     \"</code>\\n\"+\n     \"</div>\"}};\n\n  function display_loaded() {\n    var el = document.getElementById(\"4536\");\n    if (el != null) {\n      el.textContent = \"BokehJS is loading...\";\n    }\n    if (root.Bokeh !== undefined) {\n      if (el != null) {\n        el.textContent = \"BokehJS \" + root.Bokeh.version + \" successfully loaded.\";\n      }\n    } else if (Date.now() < root._bokeh_timeout) {\n      setTimeout(display_loaded, 100)\n    }\n  }\n\n\n  function run_callbacks() {\n    try {\n      root._bokeh_onload_callbacks.forEach(function(callback) {\n        if (callback != null)\n          callback();\n      });\n    } finally {\n      delete root._bokeh_onload_callbacks\n    }\n    console.debug(\"Bokeh: all callbacks have finished\");\n  }\n\n  function load_libs(css_urls, js_urls, callback) {\n    if (css_urls == null) css_urls = [];\n    if (js_urls == null) js_urls = [];\n\n    root._bokeh_onload_callbacks.push(callback);\n    if (root._bokeh_is_loading > 0) {\n      console.debug(\"Bokeh: BokehJS is being loaded, scheduling callback at\", now());\n      return null;\n    }\n    if (js_urls == null || js_urls.length === 0) {\n      run_callbacks();\n      return null;\n    }\n    console.debug(\"Bokeh: BokehJS not loaded, scheduling load and callback at\", now());\n    root._bokeh_is_loading = css_urls.length + js_urls.length;\n\n    function on_load() {\n      root._bokeh_is_loading--;\n      if (root._bokeh_is_loading === 0) {\n        console.debug(\"Bokeh: all BokehJS libraries/stylesheets loaded\");\n        run_callbacks()\n      }\n    }\n\n    function on_error() {\n      console.error(\"failed to load \" + url);\n    }\n\n    for (var i = 0; i < css_urls.length; i++) {\n      var url = css_urls[i];\n      const element = document.createElement(\"link\");\n      element.onload = on_load;\n      element.onerror = on_error;\n      element.rel = \"stylesheet\";\n      element.type = \"text/css\";\n      element.href = url;\n      console.debug(\"Bokeh: injecting link tag for BokehJS stylesheet: \", url);\n      document.body.appendChild(element);\n    }\n\n    const hashes = {\"https://cdn.bokeh.org/bokeh/release/bokeh-2.1.1.min.js\": \"kLr4fYcqcSpbuI95brIH3vnnYCquzzSxHPU6XGQCIkQRGJwhg0StNbj1eegrHs12\", \"https://cdn.bokeh.org/bokeh/release/bokeh-widgets-2.1.1.min.js\": \"xIGPmVtaOm+z0BqfSOMn4lOR6ciex448GIKG4eE61LsAvmGj48XcMQZtKcE/UXZe\", \"https://cdn.bokeh.org/bokeh/release/bokeh-tables-2.1.1.min.js\": \"Dc9u1wF/0zApGIWoBbH77iWEHtdmkuYWG839Uzmv8y8yBLXebjO9ZnERsde5Ln/P\", \"https://cdn.bokeh.org/bokeh/release/bokeh-gl-2.1.1.min.js\": \"cT9JaBz7GiRXdENrJLZNSC6eMNF3nh3fa5fTF51Svp+ukxPdwcU5kGXGPBgDCa2j\"};\n\n    for (var i = 0; i < js_urls.length; i++) {\n      var url = js_urls[i];\n      var element = document.createElement('script');\n      element.onload = on_load;\n      element.onerror = on_error;\n      element.async = false;\n      element.src = url;\n      if (url in hashes) {\n        element.crossOrigin = \"anonymous\";\n        element.integrity = \"sha384-\" + hashes[url];\n      }\n      console.debug(\"Bokeh: injecting script tag for BokehJS library: \", url);\n      document.head.appendChild(element);\n    }\n  };\n\n  function inject_raw_css(css) {\n    const element = document.createElement(\"style\");\n    element.appendChild(document.createTextNode(css));\n    document.body.appendChild(element);\n  }\n\n  \n  var js_urls = [\"https://cdn.bokeh.org/bokeh/release/bokeh-2.1.1.min.js\", \"https://cdn.bokeh.org/bokeh/release/bokeh-widgets-2.1.1.min.js\", \"https://cdn.bokeh.org/bokeh/release/bokeh-tables-2.1.1.min.js\", \"https://cdn.bokeh.org/bokeh/release/bokeh-gl-2.1.1.min.js\"];\n  var css_urls = [];\n  \n\n  var inline_js = [\n    function(Bokeh) {\n      Bokeh.set_log_level(\"info\");\n    },\n    function(Bokeh) {\n    \n    \n    }\n  ];\n\n  function run_inline_js() {\n    \n    if (root.Bokeh !== undefined || force === true) {\n      \n    for (var i = 0; i < inline_js.length; i++) {\n      inline_js[i].call(root, root.Bokeh);\n    }\n    if (force === true) {\n        display_loaded();\n      }} else if (Date.now() < root._bokeh_timeout) {\n      setTimeout(run_inline_js, 100);\n    } else if (!root._bokeh_failed_load) {\n      console.log(\"Bokeh: BokehJS failed to load within specified timeout.\");\n      root._bokeh_failed_load = true;\n    } else if (force !== true) {\n      var cell = $(document.getElementById(\"4536\")).parents('.cell').data().cell;\n      cell.output_area.append_execute_result(NB_LOAD_WARNING)\n    }\n\n  }\n\n  if (root._bokeh_is_loading === 0) {\n    console.debug(\"Bokeh: BokehJS loaded, going straight to plotting\");\n    run_inline_js();\n  } else {\n    load_libs(css_urls, js_urls, function() {\n      console.debug(\"Bokeh: BokehJS plotting callback run at\", now());\n      run_inline_js();\n    });\n  }\n}(window));"
     },
     "metadata": {},
     "output_type": "display_data"
    }
   ],
   "source": [
    "#loading libraries\n",
    "import numpy as np\n",
    "import scipy as sp\n",
    "import pandas as pd\n",
    "\n",
    "# plotting libraries\n",
    "import matplotlib.pyplot as plt\n",
    "import seaborn as sns\n",
    "import bokeh\n",
    "import bokeh.plotting\n",
    "\n",
    "# For interfacing with the file system\n",
    "import glob\n",
    "import subprocess\n",
    "import os\n",
    "import time\n",
    "\n",
    "import importlib\n",
    "import bilge_pype as bpy\n",
    "\n",
    "# pipes bokeh output to the notebook\n",
    "bokeh.io.output_notebook()\n",
    "# enables some logging output\n",
    "bpy.init_log(level='INFO')"
   ]
  },
  {
   "cell_type": "markdown",
   "metadata": {},
   "source": [
    "## Loading data into python\n",
    "After running the basecaller on fast5 files, you will have a folder containing basecalled fastq reads. `bilge_pype.py` contains a few useful functions for reading and writing fastq and fasta files. As some of these files could be quite large, we use the `low_mem=True` option to save on RAM when running this notebook, but still allow us to fetch the sequence and quality strings."
   ]
  },
  {
   "cell_type": "code",
   "execution_count": 69,
   "metadata": {},
   "outputs": [
    {
     "name": "stdout",
     "output_type": "stream",
     "text": [
      "pid[226099] 2020-07-12 15:52:42.514 INFO: Processing 0/50, current file = fastq/CO1_10.fq\n",
      "pid[226099] 2020-07-12 15:52:42.514 INFO: elapse = 0.05s\n",
      "pid[226099] 2020-07-12 15:52:43.451 INFO: Processing 20/50, current file = fastq/CO1_28.fq\n",
      "pid[226099] 2020-07-12 15:52:43.451 INFO: elapse = 0.98s\n",
      "pid[226099] 2020-07-12 15:52:44.328 INFO: Processing 40/50, current file = fastq/CO1_46.fq\n",
      "pid[226099] 2020-07-12 15:52:44.329 INFO: elapse = 1.86s\n",
      "pid[226099] 2020-07-12 15:52:44.755 INFO: adding ONT header info\n"
     ]
    }
   ],
   "source": [
    "fastq_folder = 'fastq'\n",
    "files = glob.glob(fastq_folder+'/*.fq')         # find list of fastq files to read\n",
    "df_reads = bpy.load_ONT_fastq(files, low_mem=True, header=True) # reads fastq files and parses the header"
   ]
  },
  {
   "cell_type": "code",
   "execution_count": 70,
   "metadata": {},
   "outputs": [
    {
     "data": {
      "text/html": [
       "<div>\n",
       "<style scoped>\n",
       "    .dataframe tbody tr th:only-of-type {\n",
       "        vertical-align: middle;\n",
       "    }\n",
       "\n",
       "    .dataframe tbody tr th {\n",
       "        vertical-align: top;\n",
       "    }\n",
       "\n",
       "    .dataframe thead th {\n",
       "        text-align: right;\n",
       "    }\n",
       "</style>\n",
       "<table border=\"1\" class=\"dataframe\">\n",
       "  <thead>\n",
       "    <tr style=\"text-align: right;\">\n",
       "      <th></th>\n",
       "      <th>id</th>\n",
       "      <th>seek1</th>\n",
       "      <th>rlen</th>\n",
       "      <th>seek2</th>\n",
       "      <th>filename</th>\n",
       "      <th>header</th>\n",
       "      <th>read</th>\n",
       "      <th>ch</th>\n",
       "      <th>start_time</th>\n",
       "      <th>length</th>\n",
       "    </tr>\n",
       "  </thead>\n",
       "  <tbody>\n",
       "    <tr>\n",
       "      <th>0</th>\n",
       "      <td>8be766cf-b19d-4cda-808f-8ced92f0f6bb</td>\n",
       "      <td>151</td>\n",
       "      <td>2404</td>\n",
       "      <td>2558</td>\n",
       "      <td>fastq/CO1_10.fq</td>\n",
       "      <td>8be766cf-b19d-4cda-808f-8ced92f0f6bb runid=477...</td>\n",
       "      <td>18282</td>\n",
       "      <td>279</td>\n",
       "      <td>2019-02-06 05:49:43+00:00</td>\n",
       "      <td>2404</td>\n",
       "    </tr>\n",
       "    <tr>\n",
       "      <th>1</th>\n",
       "      <td>6742e1da-cd67-45bb-bfd6-ac1c23e0f8c6</td>\n",
       "      <td>5113</td>\n",
       "      <td>1902</td>\n",
       "      <td>7018</td>\n",
       "      <td>fastq/CO1_10.fq</td>\n",
       "      <td>6742e1da-cd67-45bb-bfd6-ac1c23e0f8c6 runid=477...</td>\n",
       "      <td>8984</td>\n",
       "      <td>418</td>\n",
       "      <td>2019-02-06 05:47:58+00:00</td>\n",
       "      <td>1902</td>\n",
       "    </tr>\n",
       "    <tr>\n",
       "      <th>2</th>\n",
       "      <td>b0c6905e-c8d2-4ec6-bb15-b88ae8bcbee6</td>\n",
       "      <td>9071</td>\n",
       "      <td>1568</td>\n",
       "      <td>10642</td>\n",
       "      <td>fastq/CO1_10.fq</td>\n",
       "      <td>b0c6905e-c8d2-4ec6-bb15-b88ae8bcbee6 runid=477...</td>\n",
       "      <td>9193</td>\n",
       "      <td>428</td>\n",
       "      <td>2019-02-06 05:48:18+00:00</td>\n",
       "      <td>1568</td>\n",
       "    </tr>\n",
       "    <tr>\n",
       "      <th>3</th>\n",
       "      <td>1986ef83-6c29-4772-b1cb-14bc831933ee</td>\n",
       "      <td>12361</td>\n",
       "      <td>927</td>\n",
       "      <td>13291</td>\n",
       "      <td>fastq/CO1_10.fq</td>\n",
       "      <td>1986ef83-6c29-4772-b1cb-14bc831933ee runid=477...</td>\n",
       "      <td>8835</td>\n",
       "      <td>438</td>\n",
       "      <td>2019-02-06 05:47:03+00:00</td>\n",
       "      <td>927</td>\n",
       "    </tr>\n",
       "    <tr>\n",
       "      <th>4</th>\n",
       "      <td>69645166-f604-473f-bda0-fb5410288cae</td>\n",
       "      <td>14369</td>\n",
       "      <td>2403</td>\n",
       "      <td>16775</td>\n",
       "      <td>fastq/CO1_10.fq</td>\n",
       "      <td>69645166-f604-473f-bda0-fb5410288cae runid=477...</td>\n",
       "      <td>9360</td>\n",
       "      <td>386</td>\n",
       "      <td>2019-02-06 05:46:54+00:00</td>\n",
       "      <td>2403</td>\n",
       "    </tr>\n",
       "  </tbody>\n",
       "</table>\n",
       "</div>"
      ],
      "text/plain": [
       "                                     id  seek1  rlen  seek2         filename  \\\n",
       "0  8be766cf-b19d-4cda-808f-8ced92f0f6bb    151  2404   2558  fastq/CO1_10.fq   \n",
       "1  6742e1da-cd67-45bb-bfd6-ac1c23e0f8c6   5113  1902   7018  fastq/CO1_10.fq   \n",
       "2  b0c6905e-c8d2-4ec6-bb15-b88ae8bcbee6   9071  1568  10642  fastq/CO1_10.fq   \n",
       "3  1986ef83-6c29-4772-b1cb-14bc831933ee  12361   927  13291  fastq/CO1_10.fq   \n",
       "4  69645166-f604-473f-bda0-fb5410288cae  14369  2403  16775  fastq/CO1_10.fq   \n",
       "\n",
       "                                              header   read   ch  \\\n",
       "0  8be766cf-b19d-4cda-808f-8ced92f0f6bb runid=477...  18282  279   \n",
       "1  6742e1da-cd67-45bb-bfd6-ac1c23e0f8c6 runid=477...   8984  418   \n",
       "2  b0c6905e-c8d2-4ec6-bb15-b88ae8bcbee6 runid=477...   9193  428   \n",
       "3  1986ef83-6c29-4772-b1cb-14bc831933ee runid=477...   8835  438   \n",
       "4  69645166-f604-473f-bda0-fb5410288cae runid=477...   9360  386   \n",
       "\n",
       "                 start_time  length  \n",
       "0 2019-02-06 05:49:43+00:00    2404  \n",
       "1 2019-02-06 05:47:58+00:00    1902  \n",
       "2 2019-02-06 05:48:18+00:00    1568  \n",
       "3 2019-02-06 05:47:03+00:00     927  \n",
       "4 2019-02-06 05:46:54+00:00    2403  "
      ]
     },
     "execution_count": 70,
     "metadata": {},
     "output_type": "execute_result"
    }
   ],
   "source": [
    "df_reads.iloc[:5]"
   ]
  },
  {
   "cell_type": "markdown",
   "metadata": {},
   "source": [
    "`id` is a unique identifier string for each fastq read.\n",
    "\n",
    "`ch` is the channel where the read originated from.\n",
    "\n",
    "`start_time` is the acquisition time of read.\n",
    "\n",
    "`length` is the length of the sequence.\n",
    "\n",
    "Apply `add_seq()` to `df_reads` to get the sequence and quality information."
   ]
  },
  {
   "cell_type": "code",
   "execution_count": 71,
   "metadata": {},
   "outputs": [
    {
     "data": {
      "text/html": [
       "<div>\n",
       "<style scoped>\n",
       "    .dataframe tbody tr th:only-of-type {\n",
       "        vertical-align: middle;\n",
       "    }\n",
       "\n",
       "    .dataframe tbody tr th {\n",
       "        vertical-align: top;\n",
       "    }\n",
       "\n",
       "    .dataframe thead th {\n",
       "        text-align: right;\n",
       "    }\n",
       "</style>\n",
       "<table border=\"1\" class=\"dataframe\">\n",
       "  <thead>\n",
       "    <tr style=\"text-align: right;\">\n",
       "      <th></th>\n",
       "      <th>id</th>\n",
       "      <th>header</th>\n",
       "      <th>read</th>\n",
       "      <th>ch</th>\n",
       "      <th>start_time</th>\n",
       "      <th>length</th>\n",
       "      <th>sequence</th>\n",
       "      <th>quality</th>\n",
       "    </tr>\n",
       "  </thead>\n",
       "  <tbody>\n",
       "    <tr>\n",
       "      <th>0</th>\n",
       "      <td>8be766cf-b19d-4cda-808f-8ced92f0f6bb</td>\n",
       "      <td>8be766cf-b19d-4cda-808f-8ced92f0f6bb runid=477...</td>\n",
       "      <td>18282</td>\n",
       "      <td>279</td>\n",
       "      <td>2019-02-06 05:49:43+00:00</td>\n",
       "      <td>2404</td>\n",
       "      <td>ATGTTGTACTTCCGTTCAGTTGCATTGTTGCTGGCGTCTGCTTAGA...</td>\n",
       "      <td>$'&amp;''&amp;*%))+'&amp;&amp;24.%+.'$(#'$$+-*)-(0+*-)'&amp;$$#%%+...</td>\n",
       "    </tr>\n",
       "    <tr>\n",
       "      <th>1</th>\n",
       "      <td>6742e1da-cd67-45bb-bfd6-ac1c23e0f8c6</td>\n",
       "      <td>6742e1da-cd67-45bb-bfd6-ac1c23e0f8c6 runid=477...</td>\n",
       "      <td>8984</td>\n",
       "      <td>418</td>\n",
       "      <td>2019-02-06 05:47:58+00:00</td>\n",
       "      <td>1902</td>\n",
       "      <td>CTCAAGCTTGTCAGAGAGGTTCCAAGTCAGAGAGGTTCCTATGTAA...</td>\n",
       "      <td>$.&amp;'%#$%)'()*)((&amp;('---1-5).-*()*(*0-5/**-03556...</td>\n",
       "    </tr>\n",
       "    <tr>\n",
       "      <th>2</th>\n",
       "      <td>b0c6905e-c8d2-4ec6-bb15-b88ae8bcbee6</td>\n",
       "      <td>b0c6905e-c8d2-4ec6-bb15-b88ae8bcbee6 runid=477...</td>\n",
       "      <td>9193</td>\n",
       "      <td>428</td>\n",
       "      <td>2019-02-06 05:48:18+00:00</td>\n",
       "      <td>1568</td>\n",
       "      <td>ATCAATTGTGCTTCGTTCAGTTACGTATTGCTGGCGTCTGCTTGAT...</td>\n",
       "      <td>,-,&amp;$,&amp;&amp;(%+0,0+,0.&amp;)-+'*13/02./+0**)11.,',&amp;'+....</td>\n",
       "    </tr>\n",
       "    <tr>\n",
       "      <th>3</th>\n",
       "      <td>1986ef83-6c29-4772-b1cb-14bc831933ee</td>\n",
       "      <td>1986ef83-6c29-4772-b1cb-14bc831933ee runid=477...</td>\n",
       "      <td>8835</td>\n",
       "      <td>438</td>\n",
       "      <td>2019-02-06 05:47:03+00:00</td>\n",
       "      <td>927</td>\n",
       "      <td>CTCCGACGTAAAAAGCTGCGTTCGGTTACGTATTGCTGGCGATGTA...</td>\n",
       "      <td>$&amp;/%&amp;%$'*)../(&amp;())-+/43()1*)*35/.2--+0+'(*(&amp;$&amp;...</td>\n",
       "    </tr>\n",
       "    <tr>\n",
       "      <th>4</th>\n",
       "      <td>69645166-f604-473f-bda0-fb5410288cae</td>\n",
       "      <td>69645166-f604-473f-bda0-fb5410288cae runid=477...</td>\n",
       "      <td>9360</td>\n",
       "      <td>386</td>\n",
       "      <td>2019-02-06 05:46:54+00:00</td>\n",
       "      <td>2403</td>\n",
       "      <td>ACCAGTATTGCTTCGTTCCGGTTACGTATTGCTGGCGTCTGTAAGC...</td>\n",
       "      <td>&amp;*+'*)$%%#%%&amp;))..5%*'/'(*,,,./-//*5*)))#\"\"'&amp;('...</td>\n",
       "    </tr>\n",
       "  </tbody>\n",
       "</table>\n",
       "</div>"
      ],
      "text/plain": [
       "                                     id  \\\n",
       "0  8be766cf-b19d-4cda-808f-8ced92f0f6bb   \n",
       "1  6742e1da-cd67-45bb-bfd6-ac1c23e0f8c6   \n",
       "2  b0c6905e-c8d2-4ec6-bb15-b88ae8bcbee6   \n",
       "3  1986ef83-6c29-4772-b1cb-14bc831933ee   \n",
       "4  69645166-f604-473f-bda0-fb5410288cae   \n",
       "\n",
       "                                              header   read   ch  \\\n",
       "0  8be766cf-b19d-4cda-808f-8ced92f0f6bb runid=477...  18282  279   \n",
       "1  6742e1da-cd67-45bb-bfd6-ac1c23e0f8c6 runid=477...   8984  418   \n",
       "2  b0c6905e-c8d2-4ec6-bb15-b88ae8bcbee6 runid=477...   9193  428   \n",
       "3  1986ef83-6c29-4772-b1cb-14bc831933ee runid=477...   8835  438   \n",
       "4  69645166-f604-473f-bda0-fb5410288cae runid=477...   9360  386   \n",
       "\n",
       "                 start_time  length  \\\n",
       "0 2019-02-06 05:49:43+00:00    2404   \n",
       "1 2019-02-06 05:47:58+00:00    1902   \n",
       "2 2019-02-06 05:48:18+00:00    1568   \n",
       "3 2019-02-06 05:47:03+00:00     927   \n",
       "4 2019-02-06 05:46:54+00:00    2403   \n",
       "\n",
       "                                            sequence  \\\n",
       "0  ATGTTGTACTTCCGTTCAGTTGCATTGTTGCTGGCGTCTGCTTAGA...   \n",
       "1  CTCAAGCTTGTCAGAGAGGTTCCAAGTCAGAGAGGTTCCTATGTAA...   \n",
       "2  ATCAATTGTGCTTCGTTCAGTTACGTATTGCTGGCGTCTGCTTGAT...   \n",
       "3  CTCCGACGTAAAAAGCTGCGTTCGGTTACGTATTGCTGGCGATGTA...   \n",
       "4  ACCAGTATTGCTTCGTTCCGGTTACGTATTGCTGGCGTCTGTAAGC...   \n",
       "\n",
       "                                             quality  \n",
       "0  $'&''&*%))+'&&24.%+.'$(#'$$+-*)-(0+*-)'&$$#%%+...  \n",
       "1  $.&'%#$%)'()*)((&('---1-5).-*()*(*0-5/**-03556...  \n",
       "2  ,-,&$,&&(%+0,0+,0.&)-+'*13/02./+0**)11.,',&'+....  \n",
       "3  $&/%&%$'*)../(&())-+/43()1*)*35/.2--+0+'(*(&$&...  \n",
       "4  &*+'*)$%%#%%&))..5%*'/'(*,,,./-//*5*)))#\"\"'&('...  "
      ]
     },
     "execution_count": 71,
     "metadata": {},
     "output_type": "execute_result"
    }
   ],
   "source": [
    "bpy.add_seq(df_reads.iloc[:5])"
   ]
  },
  {
   "cell_type": "markdown",
   "metadata": {},
   "source": [
    "## Searching for reference sequences\n",
    "Consensus building in `ashure.py` works by using a reference sequence to search for repeated sequences of interest in PCR products generated by rolling circle amplification. These repeats are later aligned to generate a more error free consensus. In the absence of a reference database, we would need a best guess at what we are sequencing. This is our pseudo reference database, which can be generated with primer information. We just need to know what sequences are flanking our mystery gene.\n",
    "\n",
    "Searching every read for forward and reverse primer pairs is time intensive and unnecessary. PCR amplifies the original templates, making the reference over represented. We can filter out large repetitive fragments and just examine a subset that are likely to contain our reference sequences."
   ]
  },
  {
   "cell_type": "code",
   "execution_count": 72,
   "metadata": {
    "scrolled": true
   },
   "outputs": [
    {
     "data": {
      "image/png": "[encoded data removed]",
      "text/plain": [
       "<Figure size 720x216 with 2 Axes>"
      ]
     },
     "metadata": {
      "needs_background": "light"
     },
     "output_type": "display_data"
    }
   ],
   "source": [
    "def plot_length_dist(ax, df, color = 'red', alpha = 0.5, label = '', by_counts = True):\n",
    "    if by_counts:\n",
    "        plt.hist(df['length'], bins = np.arange(0,50e3,100),\n",
    "                 alpha = alpha, color = color, label = label)\n",
    "        plt.ylabel('counts')\n",
    "        plt.yscale('symlog')\n",
    "    else:\n",
    "        plt.hist(df['length'], bins = np.arange(0,50e3,100),\n",
    "                 weights = df['length']/1e6, alpha = alpha, color = color, label = label)\n",
    "        plt.ylabel('MB (nt)')\n",
    "    plt.xlabel('read length (nt)')\n",
    "    plt.xlim([0,50e3])\n",
    "\n",
    "# print the distribution of read lengths\n",
    "plt.figure(1, figsize=(10,3))\n",
    "\n",
    "plt.subplot(1,2,1)\n",
    "plot_length_dist(plt.gca(), df_reads, color='red')\n",
    "plt.subplot(1,2,2)\n",
    "plot_length_dist(plt.gca(), df_reads, color='red', by_counts=False)\n",
    "plt.tight_layout()\n",
    "plt.show()"
   ]
  },
  {
   "cell_type": "markdown",
   "metadata": {},
   "source": [
    "The cytochrome oxidase subunit 1 (CO1) gene is about 700bp. Size filtering is used to filter out concatemers. We want to focus on non-repeated reads because there is a chance some reads are so corrupted that the primer sequence could not be found in the correct location. You could end up with concatemers instead of a single full length CO1.\n",
    "\n",
    "To illustrate this, lets run `ashure.py` with length filtering from 500-1200bp and 500-3000."
   ]
  },
  {
   "cell_type": "code",
   "execution_count": 73,
   "metadata": {},
   "outputs": [
    {
     "data": {
      "text/plain": [
       "CompletedProcess(args='./ashure.py prfg -fq fastq/*.fastq -fs 500-3000 -p primers.csv -o pseudo_ref_bad.csv.gz --low_mem -r', returncode=1)"
      ]
     },
     "execution_count": 73,
     "metadata": {},
     "output_type": "execute_result"
    }
   ],
   "source": [
    "cmd = './ashure.py prfg -fq fastq/*.fastq -fs 500-1200 -p primers.csv -o pseudo_ref.csv.gz --low_mem -r'\n",
    "subprocess.run(cmd, shell=True) # submit the command to shell\n",
    "cmd = './ashure.py prfg -fq fastq/*.fastq -fs 500-3000 -p primers.csv -o pseudo_ref_bad.csv.gz --low_mem -r'\n",
    "subprocess.run(cmd, shell=True) # submit the command to shell"
   ]
  },
  {
   "cell_type": "code",
   "execution_count": 74,
   "metadata": {},
   "outputs": [
    {
     "data": {
      "image/png": "[encoded data removed]",
      "text/plain": [
       "<Figure size 720x216 with 1 Axes>"
      ]
     },
     "metadata": {
      "needs_background": "light"
     },
     "output_type": "display_data"
    }
   ],
   "source": [
    "# load the pseudo reference sequences\n",
    "df_prf1 = pd.read_csv('pseudo_ref.csv.gz')\n",
    "df_prf2 = pd.read_csv('pseudo_ref_bad.csv.gz')\n",
    "# add length information\n",
    "df_prf1['length'] = [len(i) for i in df_prf1['sequence']]\n",
    "df_prf2['length'] = [len(i) for i in df_prf2['sequence']]\n",
    "# plot the length distribution\n",
    "plt.figure(1, figsize=(10,3))\n",
    "plt.hist(df_prf2['length'], bins=np.arange(0,3000,10), color='red', alpha=0.5, label='500-3000bp')\n",
    "plt.hist(df_prf1['length'], bins=np.arange(0,3000,10), color='blue', alpha=0.5, label='500-1200bp')\n",
    "plt.legend()\n",
    "plt.xlabel('sequence length (bp)')\n",
    "plt.ylabel('frequency (count)')\n",
    "plt.yscale('log')\n",
    "plt.show()"
   ]
  },
  {
   "cell_type": "markdown",
   "metadata": {},
   "source": [
    "With larger bp size windows, concatemers will show up as peaks at around 1500bp and 2400bp. These concatemers are sometimes undesirable because they interfer with proper dereplication of an RCA read. In special cases, concatemers could be desirable because the gene of interest has many repetitive domains such as ankyrin proteins. We leave these decisions up to the user as you are the expert on the gene you are sequencing.\n",
    "\n",
    "Filtering and concatenation of reads by size is fairly straight forward. An example is provided below.\n",
    "```python\n",
    "x = df_prf2[(df_prf2['length'] > 700) & (df_prf2['length'] < 1000)]    # get sequences between 700-1000bp\n",
    "y = df_prf2[(df_prf2['length'] > 1200) & (df_prf2['length'] < 1600)]   # get sequences between 1200-1600bp\n",
    "df = pd.concat([x,y]) # concatenate the dateframes\n",
    "df.to_csv('example.csv.gz', compression='infer', index=False)    # write the data to csv\n",
    "```"
   ]
  },
  {
   "cell_type": "markdown",
   "metadata": {},
   "source": [
    "## Clustering and compressing the pseudo reference\n",
    "Compacting and dereplicating the pseudo reference can significantly speed up run time without hurting accuracy and sensitivity. This is possible because the pseudo reference contains many redundant sequences. Remember that exact matches are not required. The pseudo reference is meant to be a fuzzy representation of the overall dataset such that genes of interest can quickly be found.\n",
    "\n",
    "The code snippet below shows how to align the pseudo reference against the true reference database for mock50 samples and reveal the redundancy of information in the pseudo reference."
   ]
  },
  {
   "cell_type": "code",
   "execution_count": 75,
   "metadata": {},
   "outputs": [
    {
     "name": "stdout",
     "output_type": "stream",
     "text": [
      "pid[226099] 2020-07-12 15:52:51.415 INFO: Making directory ./minimap2/\n"
     ]
    }
   ],
   "source": [
    "# load true reference and pseudo reference databases\n",
    "df_ref = bpy.read_fasta('ref_db.fa')\n",
    "df_prf = pd.read_csv('pseudo_ref.csv.gz')\n",
    "# align pseudo reference against the mock50\n",
    "df_acc = bpy.run_minimap2(df_prf, df_ref, config='-k8 -w1', cleanup=True)\n",
    "df_acc = bpy.get_best(df_acc,['query_id'], metric='AS', stat='idxmax')"
   ]
  },
  {
   "cell_type": "markdown",
   "metadata": {},
   "source": [
    "`run_minimap2()` is a wrapper function to minimap2 in `bilge_pype.py`. To get more help, type `help(bpy.run_minimap2)` in python shell.\n",
    "\n",
    "`get_best()` is a helpful function to filter to the best alignment\n",
    "\n",
    "Alignment of fasta or csv files against other fasta or csv file can also be invoked using `get_accuracy.py`. This script depends on `bilge_pype.py`. Below is an example usage:\n",
    "\n",
    "```bash\n",
    "./get_accuracy.py -h     # get help\n",
    "./get_accuracy.py -i pseudo_ref.csv.gz -o acc.csv.gz   # input pseudo_ref.csv.gz and output to acc.csv.gz\n",
    "```"
   ]
  },
  {
   "cell_type": "code",
   "execution_count": 76,
   "metadata": {},
   "outputs": [
    {
     "data": {
      "image/png": "[encoded data removed]",
      "text/plain": [
       "<Figure size 720x360 with 2 Axes>"
      ]
     },
     "metadata": {
      "needs_background": "light"
     },
     "output_type": "display_data"
    }
   ],
   "source": [
    "def plot_acc(df_acc, haps):\n",
    "    data = df_acc[df_acc['database_id'].isin(haps)]\n",
    "    data = data.sort_values(by = ['database_id'])\n",
    "    data['error'] = 1-data['similarity']\n",
    "\n",
    "    # subsample to data to make swarmplot work\n",
    "    df_sub = bpy.stats_subsample(data, col='database_id', N=100)\n",
    "    # split into subplots swarm plot don't look crowded\n",
    "    slist = np.array_split(haps,2)\n",
    "    for i in range(0, len(slist)):\n",
    "        plt.subplot(1,2,i+1)\n",
    "        d = data[data['database_id'].isin(slist[i])]\n",
    "        cmap = plt.cm.get_cmap('Dark2').colors\n",
    "        bpy.mpl_box_whisker(plt.gca(), d[['database_id','error']],text_y=0.9, counts=True, cmap=cmap)\n",
    "        bpy.mpl_violin(plt.gca(), d[['database_id','error']], face_color='white', edge_color='black')\n",
    "        d = df_sub[df_sub['database_id'].isin(slist[i])]\n",
    "        sns.swarmplot(x='error', y='database_id', data=d, alpha=1, color='Black', s=2)\n",
    "        plt.ylabel('')\n",
    "        if i == 0: plt.ylabel('Haplotypes')\n",
    "        plt.xlim([0,1])\n",
    "    plt.tight_layout()\n",
    "\n",
    "# get the names of the mock50 haplotypes\n",
    "haps = df_ref[['HAP' in i for i in df_ref['id']]]['id'].values\n",
    "# make a violin/swarm plot\n",
    "plt.figure(1, figsize=(10,5))\n",
    "plot_acc(df_acc, haps)\n",
    "plt.show()"
   ]
  },
  {
   "cell_type": "markdown",
   "metadata": {},
   "source": [
    "The violin/swarm plot above shows that some haplotypes are represented by 1 sequence, while some are represented by several hundred sequences. Compute time is waste on aligning every fastq read to every closely related pseudo reference sequence.\n",
    "\n",
    "The ideal pseudo reference database for this dataset is around 50 sequences or one sequence for each mock50 sample. The pseudo reference can be compacted by invoking the `clst` module in `ashure.py`. The `clst` module uses OPTICS density clustering to order, label, merge, and return the representative center sequences for each haplotype. OPTICS is an unsupervised clustering algorithm that uses density to flag potential sequence clusters and cluster centers."
   ]
  },
  {
   "cell_type": "code",
   "execution_count": null,
   "metadata": {},
   "outputs": [],
   "source": [
    "cmd = './ashure.py clst -i pseudo_ref.csv.gz -o pseudo_clst.csv.gz -iter 10 -r'  # runs clustering for 10 iterations\n",
    "subprocess.run(cmd, shell=True)"
   ]
  },
  {
   "cell_type": "code",
   "execution_count": 79,
   "metadata": {},
   "outputs": [
    {
     "name": "stdout",
     "output_type": "stream",
     "text": [
      "pid[226099] 2020-07-12 15:55:10.231 INFO: Making directory ./minimap2/\n"
     ]
    },
    {
     "data": {
      "image/png": "[encoded data removed]",
      "text/plain": [
       "<Figure size 720x360 with 2 Axes>"
      ]
     },
     "metadata": {
      "needs_background": "light"
     },
     "output_type": "display_data"
    },
    {
     "data": {
      "image/png": "[encoded data removed]",
      "text/plain": [
       "<Figure size 864x216 with 1 Axes>"
      ]
     },
     "metadata": {
      "needs_background": "light"
     },
     "output_type": "display_data"
    }
   ],
   "source": [
    "# load the data\n",
    "df_prfc = pd.read_csv('pseudo_clst.csv.gz')\n",
    "df_prf = pd.read_csv('pseudo_ref.csv.gz')\n",
    "df_prf['length'] = [len(i) for i in df_prf['sequence']]\n",
    "df_prfc['length'] = [len(i) for i in df_prfc['sequence']]\n",
    "# align pseudo reference against the mock50\n",
    "df_acc2 = bpy.run_minimap2(df_prfc, df_ref, config='-k8 -w1', cleanup=True)\n",
    "df_acc2 = bpy.get_best(df_acc2,['query_id'], metric='AS', stat='idxmax')\n",
    "plt.figure(1, figsize=(10,5))\n",
    "plot_acc(df_acc2, haps)\n",
    "\n",
    "plt.figure(2, figsize=(12,3))\n",
    "plt.hist(df_prf['length'], bins=np.arange(0,3000,10), color='red', label='unclustered')\n",
    "plt.hist(df_prfc['length'], bins=np.arange(0,3000,10), color='blue', label='cluster centers')\n",
    "plt.legend()\n",
    "plt.xlabel('sequence length (bp)')\n",
    "plt.ylabel('frequency (count)')\n",
    "plt.yscale('symlog')\n",
    "plt.show()"
   ]
  },
  {
   "cell_type": "code",
   "execution_count": 80,
   "metadata": {},
   "outputs": [
    {
     "name": "stdout",
     "output_type": "stream",
     "text": [
      "clst module produced  57  cluster centers\n",
      "original pseudo reference size =  5601\n",
      "haplotypes before:  42\n",
      "haplotypes after:  31\n"
     ]
    }
   ],
   "source": [
    "print('clst module produced ',len(df_prfc),' cluster centers')\n",
    "print('original pseudo reference size = ',len(df_prf))\n",
    "n1 = len(np.unique(df_acc[df_acc['database_id'].isin(haps)]['database_id']))\n",
    "n2 = len(np.unique(df_acc2[df_acc2['database_id'].isin(haps)]['database_id']))\n",
    "print('haplotypes before: ', n1)\n",
    "print('haplotypes after: ', n2)"
   ]
  },
  {
   "cell_type": "markdown",
   "metadata": {},
   "source": [
    "Clustering removed many of the redundant sequences. Although some rare haplotypes may have been lost, we retain the majority of the interesting sequences which could still be in our sample.\n",
    "\n",
    "For some sequences, the accuracy of the pseudo reference entry improves because merging via multi-alignment successfully canceled out sequencing errors. For other sequences, the accuracy seems to have decreased because wrong sequences were merged together.\n",
    "\n",
    "More on this will be elaborated in the next section and in [clustering.ipynb](clustering.ipynb)\n",
    "\n",
    "To run the remainder of `ashure.py` with this compressed pseudo reference database, an example is shown below:\n",
    "\n",
    "```bash\n",
    "./ashure.py -h                  # get help\n",
    "./ashure.py run -fq fastq/* -p primers.csv -db pseudo_clst.csv.gz -o1 cons.csv.gz --low_mem  # run the whole pipeline\n",
    "```\n",
    "\n",
    "### Detection of rare haplotypes\n",
    "If detection of rare haplotypes is a priority, do not worry. The pseudo reference database does not need to be perfect. The sequences only need to approximately match your gene of interest. If the rare gene is wholly missed in the first run, `ashure.py` can be rerun on reads which did not strongly map to anything.\n",
    "\n",
    "More on how to filter and rerun `ashure.py` to find rare haplotypes will be covered in [rare_haplotypes.ipynb](rare_haplotypes.ipynb)"
   ]
  },
  {
   "cell_type": "markdown",
   "metadata": {},
   "source": [
    "## Visualizing the pseudo reference clusters\n",
    "\n",
    "The similarity relationships between sequences can be visualized via a dendrogram, pairwise matrix, or tsne plot. In this section, we show how functions in `bilge_pype.py` can help you generate pairwise distance data and make tsne plots to visualize your sequence data.\n",
    "\n",
    "### Getting pairwise distance information\n",
    "In the code snippet below, pseudo reference sequences, cluster center sequences of the pseudo reference, and the mock50 reference sequences are loaded and concatenated. Pairwise alignments are computed via `run_minimap2()` and saved to a csv file called `pseudo_pw.csv.gz`."
   ]
  },
  {
   "cell_type": "code",
   "execution_count": 82,
   "metadata": {},
   "outputs": [
    {
     "name": "stdout",
     "output_type": "stream",
     "text": [
      "pid[226099] 2020-07-12 15:55:41.438 INFO: Making directory ./minimap2/\n"
     ]
    }
   ],
   "source": [
    "def compute_pw(df):\n",
    "    # note that -D in config remove entries for diagonal alignments. You will need to add this back for similarity measures\n",
    "    df_pw = bpy.run_minimap2(df, df, config='-k15 -w10 -p 0.9 -D --dual=no', cleanup=True)\n",
    "    return bpy.get_best(df_pw,['query_id','database_id'],metric='AS', stat='idxmax')  # get the best alignment\n",
    "\n",
    "# load data and concatenate dataframes\n",
    "df_prf = pd.read_csv('pseudo_ref.csv.gz')\n",
    "df_cl = pd.read_csv('pseudo_clst.csv.gz')\n",
    "df_ref = bpy.read_fasta('ref_db.fa')\n",
    "df = pd.concat([df_prf, df_cl, df_ref])\n",
    "df_pw = compute_pw(df[['id','sequence']])\n",
    "df_pw.to_csv('pseudo_pw.csv.gz', index=False, compression='infer') # save the data"
   ]
  },
  {
   "cell_type": "markdown",
   "metadata": {},
   "source": [
    "### Plotting the TSNE representation of the distance relationships\n",
    "Dendrograms are not the ideal way to view evolutionary relationships. Complicated relationships such as evenly spaced points on a sphere are not captured by dendrograms. Neighborhood embeddings such as TSNE are better at preserving high dimensional relationships. TSNE projects high dimensional relations onto low dimensional space and tries to minimize the divergence in neighborhood structure between the low dimension and high dimension representations of the data.\n",
    "\n",
    "The code snippet below shows how to apply TSNE to the pseudo reference and obtain a 2D representation of the relationships between sequences. HDBSCAN is used to flag clusters in 2D space. Data is returned as a pandas dataframe and saved to `pseudo_tnse.csv.gz`."
   ]
  },
  {
   "cell_type": "code",
   "execution_count": 81,
   "metadata": {},
   "outputs": [
    {
     "name": "stdout",
     "output_type": "stream",
     "text": [
      "pid[226099] 2020-07-12 15:55:23.918 INFO: running sklearn tsne with n_comp = 2\n",
      "pid[226099] 2020-07-12 15:55:41.072 INFO: Running HDBSCAN\n",
      "pid[226099] 2020-07-12 15:55:41.202 INFO: getting and ordering the results\n",
      "pid[226099] 2020-07-12 15:55:41.222 INFO: number of clusters = 40\n",
      "pid[226099] 2020-07-12 15:55:41.222 INFO: unclustered = 2833\n"
     ]
    }
   ],
   "source": [
    "def get_cluster(dist, metric='precomputed'):\n",
    "    # runs tsne on distance matrix\n",
    "    tsne = bpy.run_TSNE(dist, metric=metric)\n",
    "    # run hdbscan on tsne output\n",
    "    hdb = bpy.cluster_HDBSCAN(tsne, metric='euclidean', min_samples=20, min_cluster_size=10)\n",
    "    hdb = hdb.rename(columns={'cluster_id':'hdbscan_id','ordering':'hdbscan_order'})\n",
    "    return tsne.merge(hdb, on='id', how='left')\n",
    "\n",
    "def get_dist_matrix(df):\n",
    "    # extract the pairwise distance matrix and use match_score as the metric\n",
    "    # match score is the tot_matching_bp/seq_len\n",
    "    m = bpy.get_feature_vector(df[['query_id','database_id','similarity']], symmetric=True)\n",
    "    # make this matrix symmetric\n",
    "    m = bpy.get_symmetric_matrix(m, sym_larger=False)\n",
    "    # invert similarity to distance\n",
    "    for i in range(0,len(m)):\n",
    "        m.iloc[:,i] = 1-m.iloc[:,i]\n",
    "        m.iat[i,i] = 0 # set diagonal values to zero\n",
    "    return m\n",
    "\n",
    "# load pairwise data\n",
    "df = pd.read_csv('pseudo_pw.csv.gz')\n",
    "# get the distance matrix\n",
    "m = get_dist_matrix(df)\n",
    "# perform tsne, hdscan, and optics on the data\n",
    "tsne = get_cluster(m, metric='precomputed')\n",
    "tsne.to_csv('pseudo_tsne.csv.gz', compression='infer', index=False)"
   ]
  },
  {
   "cell_type": "markdown",
   "metadata": {},
   "source": [
    "The code snippet below aligns the pseudo reference against the pseudo cluster centers and true reference. This information lets us colorize the scatter plots and interpret how well OPTICS performed."
   ]
  },
  {
   "cell_type": "code",
   "execution_count": 83,
   "metadata": {},
   "outputs": [
    {
     "name": "stdout",
     "output_type": "stream",
     "text": [
      "pid[226099] 2020-07-12 15:55:47.008 INFO: Making directory ./minimap2/\n",
      "pid[226099] 2020-07-12 15:55:49.710 INFO: Making directory ./minimap2/\n"
     ]
    }
   ],
   "source": [
    "# load sequence data\n",
    "prf = pd.read_csv('pseudo_ref.csv.gz')\n",
    "prf['source'] = 'samples'\n",
    "ref = bpy.read_fasta('ref_db.fa')\n",
    "ref = ref[[('HAP' in i) for i in ref['id']]]\n",
    "ref['source'] = 'reference'\n",
    "ref['ref_id'] = ref['id']\n",
    "clst = pd.read_csv('pseudo_clst.csv.gz')\n",
    "clst['source'] = 'clst'\n",
    "clst['clst_id'] = clst['id']\n",
    "# align reference database to pseudo reference and pseudo reference clusters to pseudo reference\n",
    "A = bpy.run_minimap2(prf, ref, config='-k8 -w1', cleanup=True).rename(columns={'query_id':'id'})\n",
    "A = bpy.get_best(A,['id'],metric='match_score',stat='idxmax')\n",
    "B = bpy.run_minimap2(prf, clst, config='-k8 -w1', cleanup=True).rename(columns={'query_id':'id'})\n",
    "B = bpy.get_best(B,['id'],metric='match_score',stat='idxmax')\n",
    "A = A.rename(columns={'database_id':'ref_id','match_score':'ref_match'})\n",
    "B = B.rename(columns={'database_id':'clst_id','match_score':'clst_match'})\n",
    "# merge alignment data\n",
    "prf = prf.merge(A[['id','ref_id','ref_match']], on='id', how='left')\n",
    "prf = prf.merge(B[['id','clst_id','clst_match']], on='id', how='left')\n",
    "df = pd.concat([prf,ref,clst])\n",
    "# merge into tsne\n",
    "tsne = pd.read_csv('pseudo_tsne.csv.gz')\n",
    "tsne = tsne.merge(df, on='id', how='left')\n",
    "# add colors to ref_id\n",
    "col = 'ref_id'\n",
    "rid = np.unique(tsne[col].dropna())\n",
    "cmap = bokeh.palettes.Category20b_20\n",
    "colors = [cmap[i%len(cmap)] for i in range(0,len(rid))]\n",
    "colors = pd.DataFrame(np.transpose([rid,colors]), columns=[col,'ref_id_color'])\n",
    "tsne = tsne.merge(colors,on='ref_id',how='left')\n",
    "# add colors to clst_id\n",
    "col = 'clst_id'\n",
    "rid = np.unique(tsne[col].dropna())\n",
    "colors = [cmap[i%len(cmap)] for i in range(0,len(rid))]\n",
    "colors = pd.DataFrame(np.transpose([rid,colors]), columns=[col,'clst_id_color'])\n",
    "tsne = tsne.merge(colors,on='clst_id',how='left')\n",
    "tsne = tsne.drop(columns=['sequence','quality'])"
   ]
  },
  {
   "cell_type": "code",
   "execution_count": null,
   "metadata": {},
   "outputs": [],
   "source": [
    "TOOLTIPS = [('id','@id'),\n",
    "            ('ref_id', '@ref_id'),\n",
    "            ('ref_match','@ref_match'),\n",
    "            ('clst_id','@clst_id'),\n",
    "            ('clst_match','@clst_match'),\n",
    "            ('hdbscan_id','@hdbscan_id'),\n",
    "            ('optics_id','@optics_id')]\n",
    "p = bokeh.plotting.figure(plot_width=600, plot_height=500, tooltips=TOOLTIPS)\n",
    "\n",
    "d = tsne[tsne['source']=='samples']\n",
    "# plot samples colored by clst_id\n",
    "p.circle('f_0', 'f_1', color='clst_id_color', size=5, source=d)\n",
    "\n",
    "# plot samples colored by ref_id\n",
    "#p.circle('f_0', 'f_1', color='ref_id_color', size=5, source=d)\n",
    "\n",
    "# plot cluster centers\n",
    "d = tsne[tsne['source']=='clst']\n",
    "p.square('f_0', 'f_1', line_color='black', fill_color='red', size=6, source=d)\n",
    "d = tsne[tsne['source']=='reference']\n",
    "p.diamond('f_0', 'f_1', line_color='black', fill_color='blue', size=10, source=d)\n",
    "\n",
    "bokeh.plotting.output_file('../docs/pages/ashure/tsne_1.html')\n",
    "bokeh.plotting.show(p)"
   ]
  },
  {
   "cell_type": "markdown",
   "metadata": {},
   "source": [
    "<iframe src='tsne_1.html'\n",
    "    sandbox='allow-same-origin allow-scripts'\n",
    "    width='100%'\n",
    "    height='500'\n",
    "    scrolling='no'\n",
    "    seamless='seamless'\n",
    "    frameborder='0'>\n",
    "</iframe>"
   ]
  },
  {
   "cell_type": "markdown",
   "metadata": {},
   "source": [
    "The above code snippet colorizes each sequence by the de novo cluster obtained from `ashure.py`. Blue diamonds denote the position of reference haplotype sequences. Red squares denote the position of de novo cluster centers from `ashure.py`\n",
    "\n",
    "The following code snippet colorizes by the match against the reference sequences."
   ]
  },
  {
   "cell_type": "markdown",
   "metadata": {},
   "source": [
    "The code snippet below colorizes the sequences based on alignment against the reference."
   ]
  },
  {
   "cell_type": "code",
   "execution_count": null,
   "metadata": {},
   "outputs": [],
   "source": [
    "TOOLTIPS = [('id','@id'),\n",
    "            ('ref_id', '@ref_id'),\n",
    "            ('ref_match','@ref_match'),\n",
    "            ('clst_id','@clst_id'),\n",
    "            ('clst_match','@clst_match'),\n",
    "            ('hdbscan_id','@hdbscan_id'),\n",
    "            ('optics_id','@optics_id')]\n",
    "p = bokeh.plotting.figure(plot_width=600, plot_height=500, tooltips=TOOLTIPS)\n",
    "\n",
    "# plot samples colored by alignment score\n",
    "d = tsne[tsne['source']=='samples']\n",
    "mapper = bokeh.transform.linear_cmap(field_name='ref_match', palette=bokeh.palettes.Spectral11, low=0.8, high=1)\n",
    "color_bar = bokeh.models.ColorBar(color_mapper=mapper['transform'], width=8,  location=(0,0))\n",
    "p.circle('f_0', 'f_1', color=mapper, size=5, source=d)\n",
    "\n",
    "# plot cluster centers\n",
    "d = tsne[tsne['source']=='clst']\n",
    "p.square('f_0', 'f_1', line_color='black', fill_color='red', size=6, source=d)\n",
    "d = tsne[tsne['source']=='reference']\n",
    "p.diamond('f_0', 'f_1', line_color='black', fill_color='blue', size=10, source=d)\n",
    "\n",
    "p.add_layout(color_bar, 'right')\n",
    "\n",
    "bokeh.plotting.output_file('../docs/pages/ashure/tsne_2.html')\n",
    "bokeh.plotting.show(p)"
   ]
  },
  {
   "cell_type": "markdown",
   "metadata": {},
   "source": [
    "<iframe src='tsne_2.html'\n",
    "    sandbox='allow-same-origin allow-scripts'\n",
    "    width='100%'\n",
    "    height='500'\n",
    "    scrolling='no'\n",
    "    seamless='seamless'\n",
    "    frameborder='0'>\n",
    "</iframe>"
   ]
  },
  {
   "cell_type": "markdown",
   "metadata": {},
   "source": [
    "The sequence of each de novo cluster center can be obtained using the code snippet below. Feel free to blast these to check their alignment against the reference."
   ]
  },
  {
   "cell_type": "code",
   "execution_count": 91,
   "metadata": {},
   "outputs": [
    {
     "data": {
      "text/plain": [
       "array([['cluster10',\n",
       "        'CGTGGTATTACTTGGTAGTTACGCGGGTGAACGGTCAACAAATCATAAAGATATCGGTACTCTATATATGATTTTTGGTGCTTTTTCGGGTGTAGTAGGTACTACATTATCTGTATTAATCCGTATGGAATTAGCACAACCTGGAAATCAAATTTTTTATGGGAAATCATCAATTATATAATGTTGTAGTAACTGCTCATGCTTTTATTATGATATTTTTTATGGTTATGCCTATTTTAATTGGGGGTTTTGGTAATTGGTTTATTCCTTTAATGTTAGGTGCTCCAGATATGGCTTTTCCTAGAATGAATAATATTAGTTTTTGGTTATTACCTCCATCACTTTTTTATTAGTTTCATCAGCTATTGTAGAATCTGGTGCAGGTACAGGTTGGACTGTATATCCACCATTATCTAGTGTTCAAGCGCATTCAGGACCTTCTGTTGATTTAGCTATTTTTAGTTTACATTTAGCTGGTATTTCATCATTATTAGGTTCAATTAATTTTATTACTACTATCTATAATATGAGAGCACCAGGATTAACTTTCCATAAATTACCTTTATTTGTATGGTCAGTGTTTATTACAGCTTTTTTATTATTATTAAGTTTACCTGTATTAGCTGGTGCTATTACTATGTTATTAACTGATAGAAATTTAAATACTTCATTTTTTGACCCCTCAGGCGGAGGTGATCCCGTATTATATCAACATTTATTTTGATTTTTTGGTCACCCTGAAGTTTACAGTAATCTCCATCATTGAGACACCCGAGCCA',\n",
       "        False, 'clst', 'cluster10']], dtype=object)"
      ]
     },
     "execution_count": 91,
     "metadata": {},
     "output_type": "execute_result"
    }
   ],
   "source": [
    "clst[clst['id']=='cluster10'].values"
   ]
  },
  {
   "cell_type": "code",
   "execution_count": 94,
   "metadata": {},
   "outputs": [
    {
     "data": {
      "text/plain": [
       "array([['1a27a932-c851-4f13-9853-c55a56e50ba3_rs207_1064',\n",
       "        'CGTGGTATTACTTGGTAGTTACGCGGGTGAACGGTCAACAAATCCATAAAGATATCGGTACTCTATATATGATTTTGGTGCTTTTTCGGGTGTAGTAGGTACTACATTATCTGTATTAATCCGTATGGAATTAGCACCTAACATTAGATTGCTTTTTTCGAGGTGTAGTGGGTACTACGTATCTGTATTAATCCGTATGGAATTAGCACAACCTGGAAATCAAATTTTTTATGGGGAAATCATCAATTATATAATGTTGTAGTAACTGCTCATGCTTTTTTTATTATGATATTTTTTTATGGTTATGCCTATTTTAATTGGGGTTTTGGTAATTGGTTTATTCCTTTAATGTTAAGGTGCTCCAGATGGCTTTTCCTAGAATGAATAATATTAGTTTTGGTTATTACCTCCATCACTTTTTATTAGTTTCATCAACTGTGTAGAATCTGAGATTGCAGGTACAGGTTGGACTGTATATCCACCATTATCTAGTGTTCAAGCGCATTCAGGACCTTCTGTTGATTTAGCGCTATTTTTGGTTTACACATTTGGCTATTTTCTAAAATGCATTATTAGGTTCAATTGAATTTTTTTATTACTGTCTATAATGCCGAGCACCGGGATTAACTTTCCATAAATTACCTTTATTTGTATGGTCAGTGTTTAGTACAGCTTTTTTTATTATTAATGCAAGTTTTACTGTATTGGCTGGCGTTGCTATTACTGGTTGTTAACTGATAGAAATTTAAATACTTCATTTTTGACCCCTCAATCGGAGGTGTCCGTATTATATAACTGTTTTGGTTTTTGGTCACCTGAAGTTTGGTAATCTCCATCATTGGAGACACCCCGAGCCA',\n",
       "        \"&(*+-*'*(&&.'%&,'()0-/./14+*+/243724.00372.-+('(-)(10335(10-02255553224-0883-.++*,664*/,,''(51/0/+)*%(*(*+-1,+-640+/+4+2)/**+4+2+/.(&(((+,)+1/0.5,*(/&$$*,662**%$'$&#&&%((0/,-/4+-(/*,,75,(-(-)21300/1232+4*,*..1265330+++*'*+1&05886.*--./*',-**/34/0.1.033424*13*,'$/%().,/01.6,,)%(-58,+/,*+,,/+-(5884*/12+43../-.&'&(),,.,/-67.+06,+-.-*+,-1.87047,(1/),/,.02.('$/*+(0%$$&'$)(*252*2**+485236-5+*)/-,)137-'-,7.+5++2/4222('&+,23,13622183012-+$))%+&)*)(-+.-)&&%+)$&&',)+,+)214/-231-10024-1-.2*.,**.*,.524100+***111760576536/*&%-)*&..'$((&&(-*588,,4/74))(''+0+&$$%$*.0,/-323((%&'.*)(1*(131-*(+&%))(&+387+&,'%&-&0/22,0++%$#%$%&.0/.*,(,)+(&26')'%&(++()''%&*)')21)*)1/44-(-**/7-$$)%)*--,/2876/(4(%.('%,$%'+*003($%%$%'+*+)+)&,,+*&#$&%*1&')&$'##.'.(+''&'%&,3/,55286/-/3634*877)*(/-*%%$&&&%()%'%$&)*3%0(*.'()&'$#%&)23,-0)785+-46)%('%'*('/0&$$&).+1253343+4,*'%'21*10,(---31-\",\n",
       "        'samples', 'HAP39', 0.6971326164874552, 'cluster10',\n",
       "        0.8340909090909091]], dtype=object)"
      ]
     },
     "execution_count": 94,
     "metadata": {},
     "output_type": "execute_result"
    }
   ],
   "source": [
    "c = [('1a27a9' in rid) for rid in prf['id']]\n",
    "prf[c].values"
   ]
  }
 ],
 "metadata": {
  "kernelspec": {
   "display_name": "Python 3",
   "language": "python",
   "name": "python3"
  },
  "language_info": {
   "codemirror_mode": {
    "name": "ipython",
    "version": 3
   },
   "file_extension": ".py",
   "mimetype": "text/x-python",
   "name": "python",
   "nbconvert_exporter": "python",
   "pygments_lexer": "ipython3",
   "version": "3.7.8"
  }
 },
 "nbformat": 4,
 "nbformat_minor": 4
}
